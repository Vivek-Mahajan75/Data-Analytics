{
 "cells": [
  {
   "cell_type": "markdown",
   "id": "dd4d3086",
   "metadata": {},
   "source": [
    "### Creation of Matrix"
   ]
  },
  {
   "cell_type": "code",
   "execution_count": 1,
   "id": "e60498b5",
   "metadata": {},
   "outputs": [],
   "source": [
    "import numpy as np\n",
    "import matplotlib.pyplot as plt\n"
   ]
  },
  {
   "cell_type": "code",
   "execution_count": 2,
   "id": "b1e026ec",
   "metadata": {},
   "outputs": [],
   "source": [
    "M = np.array([[3,4],[2,8],[1,9]])"
   ]
  },
  {
   "cell_type": "code",
   "execution_count": 3,
   "id": "e11a1482",
   "metadata": {},
   "outputs": [
    {
     "data": {
      "text/plain": [
       "array([[3, 4],\n",
       "       [2, 8],\n",
       "       [1, 9]])"
      ]
     },
     "execution_count": 3,
     "metadata": {},
     "output_type": "execute_result"
    }
   ],
   "source": [
    "M"
   ]
  },
  {
   "cell_type": "code",
   "execution_count": 4,
   "id": "f1b0e138",
   "metadata": {},
   "outputs": [
    {
     "data": {
      "text/plain": [
       "(3, 2)"
      ]
     },
     "execution_count": 4,
     "metadata": {},
     "output_type": "execute_result"
    }
   ],
   "source": [
    "M.shape"
   ]
  },
  {
   "cell_type": "code",
   "execution_count": 5,
   "id": "3e62e027",
   "metadata": {},
   "outputs": [
    {
     "data": {
      "text/plain": [
       "1"
      ]
     },
     "execution_count": 5,
     "metadata": {},
     "output_type": "execute_result"
    }
   ],
   "source": [
    "M.min()"
   ]
  },
  {
   "cell_type": "code",
   "execution_count": 6,
   "id": "29430237",
   "metadata": {},
   "outputs": [
    {
     "data": {
      "text/plain": [
       "6"
      ]
     },
     "execution_count": 6,
     "metadata": {},
     "output_type": "execute_result"
    }
   ],
   "source": [
    "M.size"
   ]
  },
  {
   "cell_type": "code",
   "execution_count": 7,
   "id": "e92f08df",
   "metadata": {},
   "outputs": [],
   "source": [
    "v = np.array([4,6,5,3,1,7,6,3])\n"
   ]
  },
  {
   "cell_type": "code",
   "execution_count": 8,
   "id": "d1bce8f3",
   "metadata": {},
   "outputs": [
    {
     "data": {
      "text/plain": [
       "8"
      ]
     },
     "execution_count": 8,
     "metadata": {},
     "output_type": "execute_result"
    }
   ],
   "source": [
    "v.size"
   ]
  },
  {
   "cell_type": "code",
   "execution_count": 9,
   "id": "988f36bd",
   "metadata": {},
   "outputs": [
    {
     "data": {
      "text/plain": [
       "array([[4, 6],\n",
       "       [5, 3],\n",
       "       [1, 7],\n",
       "       [6, 3]])"
      ]
     },
     "execution_count": 9,
     "metadata": {},
     "output_type": "execute_result"
    }
   ],
   "source": [
    "v.reshape(4,2)"
   ]
  },
  {
   "cell_type": "code",
   "execution_count": 10,
   "id": "9b9c0df3",
   "metadata": {},
   "outputs": [
    {
     "data": {
      "text/plain": [
       "array([[4, 6, 5, 3],\n",
       "       [1, 7, 6, 3]])"
      ]
     },
     "execution_count": 10,
     "metadata": {},
     "output_type": "execute_result"
    }
   ],
   "source": [
    "v.reshape(2,4)"
   ]
  },
  {
   "cell_type": "code",
   "execution_count": 11,
   "id": "70b87dcb",
   "metadata": {},
   "outputs": [
    {
     "data": {
      "text/plain": [
       "array([[4, 6, 5, 3, 1, 7, 6, 3]])"
      ]
     },
     "execution_count": 11,
     "metadata": {},
     "output_type": "execute_result"
    }
   ],
   "source": [
    "v.reshape(1,8)"
   ]
  },
  {
   "cell_type": "code",
   "execution_count": 12,
   "id": "63469a53",
   "metadata": {},
   "outputs": [
    {
     "data": {
      "text/plain": [
       "array([[4],\n",
       "       [6],\n",
       "       [5],\n",
       "       [3],\n",
       "       [1],\n",
       "       [7],\n",
       "       [6],\n",
       "       [3]])"
      ]
     },
     "execution_count": 12,
     "metadata": {},
     "output_type": "execute_result"
    }
   ],
   "source": [
    "v.reshape(8,1)"
   ]
  },
  {
   "cell_type": "code",
   "execution_count": 13,
   "id": "d566546b",
   "metadata": {},
   "outputs": [
    {
     "data": {
      "text/plain": [
       "dtype('int32')"
      ]
     },
     "execution_count": 13,
     "metadata": {},
     "output_type": "execute_result"
    }
   ],
   "source": [
    "M.dtype"
   ]
  },
  {
   "cell_type": "code",
   "execution_count": 14,
   "id": "0eff5e15",
   "metadata": {},
   "outputs": [],
   "source": [
    "M = np.array(([[3,4],[2,8],[1,9]]),dtype=np.int8)"
   ]
  },
  {
   "cell_type": "code",
   "execution_count": 15,
   "id": "d1b7635c",
   "metadata": {},
   "outputs": [
    {
     "data": {
      "text/plain": [
       "array([[3, 4],\n",
       "       [2, 8],\n",
       "       [1, 9]], dtype=int8)"
      ]
     },
     "execution_count": 15,
     "metadata": {},
     "output_type": "execute_result"
    }
   ],
   "source": [
    "M"
   ]
  },
  {
   "cell_type": "code",
   "execution_count": 16,
   "id": "5c55b1c5",
   "metadata": {},
   "outputs": [],
   "source": [
    "M = np.array([[3,4,8,0],[2,8,1,3],[1,9,5,6]],dtype=np.int8)"
   ]
  },
  {
   "cell_type": "code",
   "execution_count": 17,
   "id": "2b9cffab",
   "metadata": {},
   "outputs": [
    {
     "data": {
      "text/plain": [
       "array([[3, 4, 8, 0],\n",
       "       [2, 8, 1, 3],\n",
       "       [1, 9, 5, 6]], dtype=int8)"
      ]
     },
     "execution_count": 17,
     "metadata": {},
     "output_type": "execute_result"
    }
   ],
   "source": [
    "M"
   ]
  },
  {
   "cell_type": "code",
   "execution_count": 18,
   "id": "954b0468",
   "metadata": {},
   "outputs": [
    {
     "data": {
      "text/plain": [
       "array([3, 4, 8, 0, 2, 8, 1, 3, 1, 9, 5, 6], dtype=int8)"
      ]
     },
     "execution_count": 18,
     "metadata": {},
     "output_type": "execute_result"
    }
   ],
   "source": [
    "M.flatten()"
   ]
  },
  {
   "cell_type": "code",
   "execution_count": 19,
   "id": "74c0a976",
   "metadata": {},
   "outputs": [
    {
     "data": {
      "text/plain": [
       "array([[3, 4, 8, 0],\n",
       "       [2, 8, 1, 3],\n",
       "       [1, 9, 5, 6]], dtype=int8)"
      ]
     },
     "execution_count": 19,
     "metadata": {},
     "output_type": "execute_result"
    }
   ],
   "source": [
    "M.reshape(3,-1)"
   ]
  },
  {
   "cell_type": "code",
   "execution_count": 20,
   "id": "d76225ec",
   "metadata": {},
   "outputs": [
    {
     "data": {
      "text/plain": [
       "array([[3, 4, 8, 0, 2, 8],\n",
       "       [1, 3, 1, 9, 5, 6]], dtype=int8)"
      ]
     },
     "execution_count": 20,
     "metadata": {},
     "output_type": "execute_result"
    }
   ],
   "source": [
    "M.reshape(2,-1)"
   ]
  },
  {
   "cell_type": "code",
   "execution_count": 21,
   "id": "e06e0959",
   "metadata": {},
   "outputs": [
    {
     "data": {
      "text/plain": [
       "array([[3, 4],\n",
       "       [8, 0],\n",
       "       [2, 8],\n",
       "       [1, 3],\n",
       "       [1, 9],\n",
       "       [5, 6]], dtype=int8)"
      ]
     },
     "execution_count": 21,
     "metadata": {},
     "output_type": "execute_result"
    }
   ],
   "source": [
    "M.reshape(-1,2)"
   ]
  },
  {
   "cell_type": "code",
   "execution_count": 22,
   "id": "c9a21bd5",
   "metadata": {},
   "outputs": [
    {
     "data": {
      "text/plain": [
       "array([3, 4, 8, 0, 2, 8, 1, 3, 1, 9, 5, 6], dtype=int8)"
      ]
     },
     "execution_count": 22,
     "metadata": {},
     "output_type": "execute_result"
    }
   ],
   "source": [
    "M.reshape(-1)"
   ]
  },
  {
   "cell_type": "markdown",
   "id": "1ad3c64e",
   "metadata": {},
   "source": [
    "### Matrix Operations"
   ]
  },
  {
   "cell_type": "code",
   "execution_count": 23,
   "id": "1fac108e",
   "metadata": {},
   "outputs": [
    {
     "data": {
      "text/plain": [
       "array([[3, 4, 8, 0],\n",
       "       [2, 8, 1, 3],\n",
       "       [1, 9, 5, 6]], dtype=int8)"
      ]
     },
     "execution_count": 23,
     "metadata": {},
     "output_type": "execute_result"
    }
   ],
   "source": [
    "M"
   ]
  },
  {
   "cell_type": "code",
   "execution_count": 24,
   "id": "1372c877",
   "metadata": {},
   "outputs": [
    {
     "name": "stdout",
     "output_type": "stream",
     "text": [
      "[3 4 8 0]\n",
      "[2 8 1 3]\n",
      "[1 9 5 6]\n"
     ]
    }
   ],
   "source": [
    "for row in M:\n",
    "    print(row)"
   ]
  },
  {
   "cell_type": "code",
   "execution_count": 25,
   "id": "5ef754d3",
   "metadata": {},
   "outputs": [
    {
     "name": "stdout",
     "output_type": "stream",
     "text": [
      "3 4 8 0 \n",
      "2 8 1 3 \n",
      "1 9 5 6 \n"
     ]
    }
   ],
   "source": [
    "for row in M:\n",
    "    for value in row:\n",
    "        print(value, end =' ')\n",
    "    print()"
   ]
  },
  {
   "cell_type": "code",
   "execution_count": 26,
   "id": "5f46d1de",
   "metadata": {},
   "outputs": [
    {
     "name": "stdout",
     "output_type": "stream",
     "text": [
      "3 4 8 0\n",
      "2 8 1 3\n",
      "1 9 5 6\n"
     ]
    }
   ],
   "source": [
    "for row in M:\n",
    "    print(*row)"
   ]
  },
  {
   "cell_type": "markdown",
   "id": "df583dc7",
   "metadata": {},
   "source": [
    "### Addition"
   ]
  },
  {
   "cell_type": "code",
   "execution_count": 27,
   "id": "0e1743b7",
   "metadata": {},
   "outputs": [],
   "source": [
    "M1 = np.array([[4,5,6],[2,1,9],[0,2,8]])\n",
    "M2 = np.array([[2,5,7],[0,8,7],[6,4,3]])"
   ]
  },
  {
   "cell_type": "code",
   "execution_count": 28,
   "id": "8e5103f5",
   "metadata": {},
   "outputs": [],
   "source": [
    "M3 = M1 + M2"
   ]
  },
  {
   "cell_type": "code",
   "execution_count": 29,
   "id": "32fdb480",
   "metadata": {},
   "outputs": [
    {
     "data": {
      "text/plain": [
       "array([[ 6, 10, 13],\n",
       "       [ 2,  9, 16],\n",
       "       [ 6,  6, 11]])"
      ]
     },
     "execution_count": 29,
     "metadata": {},
     "output_type": "execute_result"
    }
   ],
   "source": [
    "M3"
   ]
  },
  {
   "cell_type": "markdown",
   "id": "5f69bd45",
   "metadata": {},
   "source": [
    "### Subtraction"
   ]
  },
  {
   "cell_type": "code",
   "execution_count": 30,
   "id": "e6b42c6f",
   "metadata": {},
   "outputs": [],
   "source": [
    "M3 = M1 - M2"
   ]
  },
  {
   "cell_type": "code",
   "execution_count": 31,
   "id": "94f451c9",
   "metadata": {},
   "outputs": [
    {
     "data": {
      "text/plain": [
       "array([[ 2,  0, -1],\n",
       "       [ 2, -7,  2],\n",
       "       [-6, -2,  5]])"
      ]
     },
     "execution_count": 31,
     "metadata": {},
     "output_type": "execute_result"
    }
   ],
   "source": [
    "M3"
   ]
  },
  {
   "cell_type": "markdown",
   "id": "9fb869a3",
   "metadata": {},
   "source": [
    "## Scaler Multiplication"
   ]
  },
  {
   "cell_type": "code",
   "execution_count": 32,
   "id": "391d0799",
   "metadata": {},
   "outputs": [
    {
     "data": {
      "text/plain": [
       "(array([[4, 5, 6],\n",
       "        [2, 1, 9],\n",
       "        [0, 2, 8]]),\n",
       " array([[ 8, 10, 12],\n",
       "        [ 4,  2, 18],\n",
       "        [ 0,  4, 16]]))"
      ]
     },
     "execution_count": 32,
     "metadata": {},
     "output_type": "execute_result"
    }
   ],
   "source": [
    "M1, M1 * 2"
   ]
  },
  {
   "cell_type": "code",
   "execution_count": 33,
   "id": "d6e93425",
   "metadata": {},
   "outputs": [
    {
     "data": {
      "text/plain": [
       "array([[14, 15, 16],\n",
       "       [12, 11, 19],\n",
       "       [10, 12, 18]])"
      ]
     },
     "execution_count": 33,
     "metadata": {},
     "output_type": "execute_result"
    }
   ],
   "source": [
    "M1 + 10"
   ]
  },
  {
   "cell_type": "code",
   "execution_count": 34,
   "id": "b7f2491e",
   "metadata": {},
   "outputs": [],
   "source": [
    "M3 = 2* (M1 + M2)"
   ]
  },
  {
   "cell_type": "code",
   "execution_count": 35,
   "id": "556f0f0f",
   "metadata": {},
   "outputs": [],
   "source": [
    "M4 = 2* M1 + 2 * M2"
   ]
  },
  {
   "cell_type": "code",
   "execution_count": 36,
   "id": "4c412014",
   "metadata": {},
   "outputs": [
    {
     "data": {
      "text/plain": [
       "(array([[12, 20, 26],\n",
       "        [ 4, 18, 32],\n",
       "        [12, 12, 22]]),\n",
       " array([[12, 20, 26],\n",
       "        [ 4, 18, 32],\n",
       "        [12, 12, 22]]))"
      ]
     },
     "execution_count": 36,
     "metadata": {},
     "output_type": "execute_result"
    }
   ],
   "source": [
    "M3,M4"
   ]
  },
  {
   "cell_type": "code",
   "execution_count": 37,
   "id": "f06a0acc",
   "metadata": {},
   "outputs": [],
   "source": [
    "M3=M1 * (2+3)"
   ]
  },
  {
   "cell_type": "code",
   "execution_count": 38,
   "id": "7075aa2e",
   "metadata": {},
   "outputs": [
    {
     "data": {
      "text/plain": [
       "array([[20, 25, 30],\n",
       "       [10,  5, 45],\n",
       "       [ 0, 10, 40]])"
      ]
     },
     "execution_count": 38,
     "metadata": {},
     "output_type": "execute_result"
    }
   ],
   "source": [
    "M3"
   ]
  },
  {
   "cell_type": "code",
   "execution_count": 39,
   "id": "bc4db283",
   "metadata": {},
   "outputs": [],
   "source": [
    "M4 = M1 * 2 + 3 * M1"
   ]
  },
  {
   "cell_type": "code",
   "execution_count": 40,
   "id": "d0f4347a",
   "metadata": {},
   "outputs": [
    {
     "data": {
      "text/plain": [
       "array([[20, 25, 30],\n",
       "       [10,  5, 45],\n",
       "       [ 0, 10, 40]])"
      ]
     },
     "execution_count": 40,
     "metadata": {},
     "output_type": "execute_result"
    }
   ],
   "source": [
    "M4"
   ]
  },
  {
   "cell_type": "code",
   "execution_count": 41,
   "id": "b2ff8b28",
   "metadata": {},
   "outputs": [
    {
     "data": {
      "text/plain": [
       "array([[4, 5, 6],\n",
       "       [2, 1, 9],\n",
       "       [0, 2, 8]])"
      ]
     },
     "execution_count": 41,
     "metadata": {},
     "output_type": "execute_result"
    }
   ],
   "source": [
    "1 * M1"
   ]
  },
  {
   "cell_type": "code",
   "execution_count": 42,
   "id": "5c1a636f",
   "metadata": {},
   "outputs": [
    {
     "data": {
      "text/plain": [
       "array([[-4, -5, -6],\n",
       "       [-2, -1, -9],\n",
       "       [ 0, -2, -8]])"
      ]
     },
     "execution_count": 42,
     "metadata": {},
     "output_type": "execute_result"
    }
   ],
   "source": [
    "-1 * M1"
   ]
  },
  {
   "cell_type": "markdown",
   "id": "9a1a09fe",
   "metadata": {},
   "source": [
    "## Matrix Multiplication"
   ]
  },
  {
   "cell_type": "code",
   "execution_count": 43,
   "id": "10c12cfd",
   "metadata": {},
   "outputs": [
    {
     "data": {
      "text/plain": [
       "(array([[4, 5, 6],\n",
       "        [2, 1, 9],\n",
       "        [0, 2, 8]]),\n",
       " array([[2, 5, 7],\n",
       "        [0, 8, 7],\n",
       "        [6, 4, 3]]))"
      ]
     },
     "execution_count": 43,
     "metadata": {},
     "output_type": "execute_result"
    }
   ],
   "source": [
    "M1,M2"
   ]
  },
  {
   "cell_type": "code",
   "execution_count": 44,
   "id": "582dc2d0",
   "metadata": {},
   "outputs": [
    {
     "data": {
      "text/plain": [
       "array([[ 8, 25, 42],\n",
       "       [ 0,  8, 63],\n",
       "       [ 0,  8, 24]])"
      ]
     },
     "execution_count": 44,
     "metadata": {},
     "output_type": "execute_result"
    }
   ],
   "source": [
    "M1 * M2"
   ]
  },
  {
   "cell_type": "code",
   "execution_count": 45,
   "id": "2290f69c",
   "metadata": {},
   "outputs": [
    {
     "data": {
      "text/plain": [
       "array([[44, 84, 81],\n",
       "       [58, 54, 48],\n",
       "       [48, 48, 38]])"
      ]
     },
     "execution_count": 45,
     "metadata": {},
     "output_type": "execute_result"
    }
   ],
   "source": [
    "M1 @ M2"
   ]
  },
  {
   "cell_type": "code",
   "execution_count": 46,
   "id": "90dc4656",
   "metadata": {},
   "outputs": [
    {
     "data": {
      "text/plain": [
       "array([[44, 84, 81],\n",
       "       [58, 54, 48],\n",
       "       [48, 48, 38]])"
      ]
     },
     "execution_count": 46,
     "metadata": {},
     "output_type": "execute_result"
    }
   ],
   "source": [
    "M1 @ M2"
   ]
  },
  {
   "cell_type": "code",
   "execution_count": 47,
   "id": "1c224b6f",
   "metadata": {},
   "outputs": [
    {
     "data": {
      "text/plain": [
       "array([[ 18,  29, 113],\n",
       "       [ 16,  22, 128],\n",
       "       [ 32,  40,  96]])"
      ]
     },
     "execution_count": 47,
     "metadata": {},
     "output_type": "execute_result"
    }
   ],
   "source": [
    "M2 @ M1"
   ]
  },
  {
   "cell_type": "code",
   "execution_count": 48,
   "id": "5c6db752",
   "metadata": {},
   "outputs": [
    {
     "data": {
      "text/plain": [
       "array([[20, 25, 30],\n",
       "       [10,  5, 45],\n",
       "       [ 0, 10, 40]])"
      ]
     },
     "execution_count": 48,
     "metadata": {},
     "output_type": "execute_result"
    }
   ],
   "source": [
    "M3"
   ]
  },
  {
   "cell_type": "code",
   "execution_count": 49,
   "id": "4ff5fdd0",
   "metadata": {},
   "outputs": [
    {
     "data": {
      "text/plain": [
       "(array([[1720, 2330, 8340],\n",
       "        [1700, 2200, 6090],\n",
       "        [1440, 1820, 5120]]),\n",
       " array([[1720, 2330, 8340],\n",
       "        [1700, 2200, 6090],\n",
       "        [1440, 1820, 5120]]))"
      ]
     },
     "execution_count": 49,
     "metadata": {},
     "output_type": "execute_result"
    }
   ],
   "source": [
    "M1 @ (M2 @ M3), (M1 @ M2) @ M3"
   ]
  },
  {
   "cell_type": "code",
   "execution_count": 50,
   "id": "737a4f92",
   "metadata": {},
   "outputs": [
    {
     "data": {
      "text/plain": [
       "array([[174, 269, 666],\n",
       "       [108, 199, 513],\n",
       "       [ 68, 138, 448]])"
      ]
     },
     "execution_count": 50,
     "metadata": {},
     "output_type": "execute_result"
    }
   ],
   "source": [
    "M1 @ (M2 + M3) "
   ]
  },
  {
   "cell_type": "code",
   "execution_count": 51,
   "id": "e5f20464",
   "metadata": {},
   "outputs": [
    {
     "data": {
      "text/plain": [
       "array([[174, 269, 666],\n",
       "       [108, 199, 513],\n",
       "       [ 68, 138, 448]])"
      ]
     },
     "execution_count": 51,
     "metadata": {},
     "output_type": "execute_result"
    }
   ],
   "source": [
    "(M1 @ M2) + (M1 @ M3)"
   ]
  },
  {
   "cell_type": "code",
   "execution_count": 52,
   "id": "4121f505",
   "metadata": {},
   "outputs": [
    {
     "data": {
      "text/plain": [
       "array([[44, 84, 81],\n",
       "       [58, 54, 48],\n",
       "       [48, 48, 38]])"
      ]
     },
     "execution_count": 52,
     "metadata": {},
     "output_type": "execute_result"
    }
   ],
   "source": [
    "np.matmul(M1,M2)"
   ]
  },
  {
   "cell_type": "code",
   "execution_count": 53,
   "id": "3dddf1b3",
   "metadata": {},
   "outputs": [
    {
     "data": {
      "text/plain": [
       "array([[ 220,  330, 1150],\n",
       "       [ 130,  255, 1105],\n",
       "       [ 180,  290,  890]])"
      ]
     },
     "execution_count": 53,
     "metadata": {},
     "output_type": "execute_result"
    }
   ],
   "source": [
    "(M1 + M2) @ M3 "
   ]
  },
  {
   "cell_type": "code",
   "execution_count": 54,
   "id": "a3cf0123",
   "metadata": {},
   "outputs": [
    {
     "data": {
      "text/plain": [
       "array([[ 220,  330, 1150],\n",
       "       [ 130,  255, 1105],\n",
       "       [ 180,  290,  890]])"
      ]
     },
     "execution_count": 54,
     "metadata": {},
     "output_type": "execute_result"
    }
   ],
   "source": [
    "(M1 @ M3) + (M2 @ M3)"
   ]
  },
  {
   "cell_type": "markdown",
   "id": "dd52f25c",
   "metadata": {},
   "source": [
    "### Matrix Transpose"
   ]
  },
  {
   "cell_type": "code",
   "execution_count": 55,
   "id": "664d0fed",
   "metadata": {},
   "outputs": [
    {
     "data": {
      "text/plain": [
       "array([[4, 2, 0],\n",
       "       [5, 1, 2],\n",
       "       [6, 9, 8]])"
      ]
     },
     "execution_count": 55,
     "metadata": {},
     "output_type": "execute_result"
    }
   ],
   "source": [
    "M1.T"
   ]
  },
  {
   "cell_type": "code",
   "execution_count": 56,
   "id": "3e3b87a0",
   "metadata": {},
   "outputs": [
    {
     "data": {
      "text/plain": [
       "array([[4, 5, 6],\n",
       "       [2, 1, 9],\n",
       "       [0, 2, 8]])"
      ]
     },
     "execution_count": 56,
     "metadata": {},
     "output_type": "execute_result"
    }
   ],
   "source": [
    "M1"
   ]
  },
  {
   "cell_type": "code",
   "execution_count": 57,
   "id": "b773f134",
   "metadata": {},
   "outputs": [
    {
     "data": {
      "text/plain": [
       "array([[4, 2, 0],\n",
       "       [5, 1, 2],\n",
       "       [6, 9, 8]])"
      ]
     },
     "execution_count": 57,
     "metadata": {},
     "output_type": "execute_result"
    }
   ],
   "source": [
    "np.transpose(M1)"
   ]
  },
  {
   "cell_type": "code",
   "execution_count": 58,
   "id": "dcb57e9b",
   "metadata": {},
   "outputs": [
    {
     "name": "stdout",
     "output_type": "stream",
     "text": [
      "Enter number of rows:4\n",
      "Enter number of col:5\n",
      "Enter no 1\n",
      "Enter no 2\n",
      "Enter no 3\n",
      "Enter no 5\n",
      "Enter no 54\n",
      "Enter no 45\n",
      "Enter no 45\n",
      "Enter no 56\n",
      "Enter no 45\n",
      "Enter no 56\n",
      "Enter no 45\n",
      "Enter no 45\n",
      "Enter no 4556\n",
      "Enter no 54\n",
      "Enter no 4\n",
      "Enter no 546\n",
      "Enter no 45\n",
      "Enter no 4\n",
      "Enter no 54\n",
      "Enter no 45\n",
      "matrix:\n",
      " [[   1    2    3    5   54]\n",
      " [  45   45   56   45   56]\n",
      " [  45   45 4556   54    4]\n",
      " [ 546   45    4   54   45]]\n",
      "Transpose : \n",
      " [[   1   45   45  546]\n",
      " [   2   45   45   45]\n",
      " [   3   56 4556    4]\n",
      " [   5   45   54   54]\n",
      " [  54   56    4   45]]\n"
     ]
    }
   ],
   "source": [
    "import numpy as np\n",
    "row = int(input(\"Enter number of rows:\"))\n",
    "col = int(input(\"Enter number of col:\"))\n",
    "mat = np.zeros(row * col , dtype = np.int16)\n",
    "for i in range(len(mat)): \n",
    "        mat[i] = int(input(\"Enter no \"))\n",
    "        \n",
    "mat = mat.reshape(row,col)\n",
    "print(\"matrix:\\n\",mat)\n",
    "print(\"Transpose : \\n\", mat.T)\n",
    "      \n",
    "        "
   ]
  },
  {
   "cell_type": "code",
   "execution_count": 59,
   "id": "e9a80568",
   "metadata": {},
   "outputs": [
    {
     "data": {
      "text/plain": [
       "array([[4, 5, 6],\n",
       "       [2, 1, 9],\n",
       "       [0, 2, 8]])"
      ]
     },
     "execution_count": 59,
     "metadata": {},
     "output_type": "execute_result"
    }
   ],
   "source": [
    "M1.T.T"
   ]
  },
  {
   "cell_type": "code",
   "execution_count": 60,
   "id": "9df889a3",
   "metadata": {},
   "outputs": [
    {
     "data": {
      "text/plain": [
       "array([[4, 5, 6],\n",
       "       [2, 1, 9],\n",
       "       [0, 2, 8]])"
      ]
     },
     "execution_count": 60,
     "metadata": {},
     "output_type": "execute_result"
    }
   ],
   "source": [
    "M1"
   ]
  },
  {
   "cell_type": "code",
   "execution_count": 61,
   "id": "3f0ebdff",
   "metadata": {},
   "outputs": [
    {
     "data": {
      "text/plain": [
       "(array([[ 6,  2,  6],\n",
       "        [10,  9,  6],\n",
       "        [13, 16, 11]]),\n",
       " array([[ 6,  2,  6],\n",
       "        [10,  9,  6],\n",
       "        [13, 16, 11]]))"
      ]
     },
     "execution_count": 61,
     "metadata": {},
     "output_type": "execute_result"
    }
   ],
   "source": [
    "M1.T + M2.T, (M1 + M2).T"
   ]
  },
  {
   "cell_type": "code",
   "execution_count": 62,
   "id": "1892ba1d",
   "metadata": {},
   "outputs": [
    {
     "data": {
      "text/plain": [
       "(array([[44, 58, 48],\n",
       "        [84, 54, 48],\n",
       "        [81, 48, 38]]),\n",
       " array([[44, 58, 48],\n",
       "        [84, 54, 48],\n",
       "        [81, 48, 38]]))"
      ]
     },
     "execution_count": 62,
     "metadata": {},
     "output_type": "execute_result"
    }
   ],
   "source": [
    "(M1 @ M2).T,  M2.T @ M1.T"
   ]
  },
  {
   "cell_type": "markdown",
   "id": "15088367",
   "metadata": {},
   "source": [
    "## Trace of Matrix"
   ]
  },
  {
   "cell_type": "code",
   "execution_count": 63,
   "id": "6616656e",
   "metadata": {},
   "outputs": [
    {
     "data": {
      "text/plain": [
       "array([[4, 5, 6],\n",
       "       [2, 1, 9],\n",
       "       [0, 2, 8]])"
      ]
     },
     "execution_count": 63,
     "metadata": {},
     "output_type": "execute_result"
    }
   ],
   "source": [
    "M1"
   ]
  },
  {
   "cell_type": "code",
   "execution_count": 64,
   "id": "e8baefa6",
   "metadata": {},
   "outputs": [],
   "source": [
    "add = 0\n",
    "rn = 0\n",
    "\n",
    "for row in M1:\n",
    "    add = add + row[rn]\n",
    "    rn += 1"
   ]
  },
  {
   "cell_type": "code",
   "execution_count": 65,
   "id": "f5e7ab1a",
   "metadata": {},
   "outputs": [
    {
     "data": {
      "text/plain": [
       "13"
      ]
     },
     "execution_count": 65,
     "metadata": {},
     "output_type": "execute_result"
    }
   ],
   "source": [
    "add"
   ]
  },
  {
   "cell_type": "code",
   "execution_count": 66,
   "id": "0a1f9c5d",
   "metadata": {},
   "outputs": [
    {
     "data": {
      "text/plain": [
       "13"
      ]
     },
     "execution_count": 66,
     "metadata": {},
     "output_type": "execute_result"
    }
   ],
   "source": [
    "np.trace(M1)"
   ]
  },
  {
   "cell_type": "code",
   "execution_count": 67,
   "id": "3dea689f",
   "metadata": {},
   "outputs": [],
   "source": [
    "M3 = np.array([[3,4,8,0],[2,8,1,3],[1,9,5,6]],dtype=np.int8)"
   ]
  },
  {
   "cell_type": "code",
   "execution_count": 68,
   "id": "f0de9107",
   "metadata": {},
   "outputs": [
    {
     "data": {
      "text/plain": [
       "array([[3, 4, 8, 0],\n",
       "       [2, 8, 1, 3],\n",
       "       [1, 9, 5, 6]], dtype=int8)"
      ]
     },
     "execution_count": 68,
     "metadata": {},
     "output_type": "execute_result"
    }
   ],
   "source": [
    "M3"
   ]
  },
  {
   "cell_type": "code",
   "execution_count": 69,
   "id": "853c628d",
   "metadata": {},
   "outputs": [
    {
     "data": {
      "text/plain": [
       "16"
      ]
     },
     "execution_count": 69,
     "metadata": {},
     "output_type": "execute_result"
    }
   ],
   "source": [
    "np.trace(M3)"
   ]
  },
  {
   "cell_type": "code",
   "execution_count": 70,
   "id": "0d9f3afe",
   "metadata": {},
   "outputs": [
    {
     "data": {
      "text/plain": [
       "(136, 136)"
      ]
     },
     "execution_count": 70,
     "metadata": {},
     "output_type": "execute_result"
    }
   ],
   "source": [
    "np.trace(M1 @ M2), np.trace(M2 @ M1)"
   ]
  },
  {
   "cell_type": "code",
   "execution_count": 71,
   "id": "2a3066b2",
   "metadata": {},
   "outputs": [
    {
     "data": {
      "text/plain": [
       "(13, 13)"
      ]
     },
     "execution_count": 71,
     "metadata": {},
     "output_type": "execute_result"
    }
   ],
   "source": [
    "np.trace(M1 ), np.trace(M1.T)"
   ]
  },
  {
   "cell_type": "code",
   "execution_count": 72,
   "id": "e381f973",
   "metadata": {},
   "outputs": [
    {
     "data": {
      "text/plain": [
       "(26, 26)"
      ]
     },
     "execution_count": 72,
     "metadata": {},
     "output_type": "execute_result"
    }
   ],
   "source": [
    "2 * np.trace(M1), np.trace(2 * M1)"
   ]
  },
  {
   "cell_type": "code",
   "execution_count": 73,
   "id": "ca98ef37",
   "metadata": {},
   "outputs": [
    {
     "data": {
      "text/plain": [
       "(26, 26)"
      ]
     },
     "execution_count": 73,
     "metadata": {},
     "output_type": "execute_result"
    }
   ],
   "source": [
    "np.trace(M1 + M2) , np.trace(M1) + np.trace(M2)"
   ]
  },
  {
   "cell_type": "markdown",
   "id": "93d195e3",
   "metadata": {},
   "source": [
    "## Determinant of matrix"
   ]
  },
  {
   "cell_type": "code",
   "execution_count": 74,
   "id": "9c521242",
   "metadata": {},
   "outputs": [
    {
     "data": {
      "text/plain": [
       "array([[4, 5, 6],\n",
       "       [2, 1, 9],\n",
       "       [0, 2, 8]])"
      ]
     },
     "execution_count": 74,
     "metadata": {},
     "output_type": "execute_result"
    }
   ],
   "source": [
    "M1"
   ]
  },
  {
   "cell_type": "code",
   "execution_count": 75,
   "id": "05aaeeca",
   "metadata": {},
   "outputs": [
    {
     "data": {
      "text/plain": [
       "-95.99999999999999"
      ]
     },
     "execution_count": 75,
     "metadata": {},
     "output_type": "execute_result"
    }
   ],
   "source": [
    "np.linalg.det(M1)"
   ]
  },
  {
   "cell_type": "code",
   "execution_count": 76,
   "id": "8dd8c85b",
   "metadata": {},
   "outputs": [
    {
     "data": {
      "text/plain": [
       "-133.99999999999997"
      ]
     },
     "execution_count": 76,
     "metadata": {},
     "output_type": "execute_result"
    }
   ],
   "source": [
    "np.linalg.det(M2)"
   ]
  },
  {
   "cell_type": "markdown",
   "id": "209d058d",
   "metadata": {},
   "source": [
    "### Inverse of the matrix\n"
   ]
  },
  {
   "cell_type": "code",
   "execution_count": 77,
   "id": "3e4402e0",
   "metadata": {},
   "outputs": [
    {
     "data": {
      "text/plain": [
       "array([[ 0.10416667,  0.29166667, -0.40625   ],\n",
       "       [ 0.16666667, -0.33333333,  0.25      ],\n",
       "       [-0.04166667,  0.08333333,  0.0625    ]])"
      ]
     },
     "execution_count": 77,
     "metadata": {},
     "output_type": "execute_result"
    }
   ],
   "source": [
    "np.linalg.inv(M1)"
   ]
  },
  {
   "cell_type": "markdown",
   "id": "7167f09d",
   "metadata": {},
   "source": [
    "### rank of matrix"
   ]
  },
  {
   "cell_type": "code",
   "execution_count": 79,
   "id": "5551e732",
   "metadata": {},
   "outputs": [],
   "source": [
    "M4 = np.array([[1,2],[2,4]])"
   ]
  },
  {
   "cell_type": "code",
   "execution_count": 80,
   "id": "b144a3fd",
   "metadata": {},
   "outputs": [
    {
     "data": {
      "text/plain": [
       "array([[1, 2],\n",
       "       [2, 4]])"
      ]
     },
     "execution_count": 80,
     "metadata": {},
     "output_type": "execute_result"
    }
   ],
   "source": [
    "M4"
   ]
  },
  {
   "cell_type": "code",
   "execution_count": 81,
   "id": "6a0f7cdb",
   "metadata": {},
   "outputs": [
    {
     "data": {
      "text/plain": [
       "1"
      ]
     },
     "execution_count": 81,
     "metadata": {},
     "output_type": "execute_result"
    }
   ],
   "source": [
    "np.linalg.matrix_rank(M4)"
   ]
  },
  {
   "cell_type": "code",
   "execution_count": 83,
   "id": "927cc4a8",
   "metadata": {},
   "outputs": [
    {
     "data": {
      "text/plain": [
       "2"
      ]
     },
     "execution_count": 83,
     "metadata": {},
     "output_type": "execute_result"
    }
   ],
   "source": [
    "M5 = np.array([[1,2],[3,4]])\n",
    "np.linalg.matrix_rank(M5)"
   ]
  },
  {
   "cell_type": "code",
   "execution_count": 88,
   "id": "b45dd406",
   "metadata": {},
   "outputs": [
    {
     "data": {
      "text/plain": [
       "1"
      ]
     },
     "execution_count": 88,
     "metadata": {},
     "output_type": "execute_result"
    }
   ],
   "source": [
    "M4 = np.array([[1,2,3],[2,4,6],[1,3,4]])\n",
    "np.linalg.matrix_rank(M4)\n"
   ]
  },
  {
   "cell_type": "code",
   "execution_count": 89,
   "id": "75db1ecc",
   "metadata": {},
   "outputs": [
    {
     "data": {
      "text/plain": [
       "array([[1. , 2. , 3. ],\n",
       "       [2. , 4. , 6. ],\n",
       "       [1.5, 3. , 4.5]])"
      ]
     },
     "execution_count": 89,
     "metadata": {},
     "output_type": "execute_result"
    }
   ],
   "source": [
    "M4"
   ]
  },
  {
   "cell_type": "code",
   "execution_count": 90,
   "id": "35dd8750",
   "metadata": {},
   "outputs": [
    {
     "data": {
      "text/plain": [
       "2"
      ]
     },
     "execution_count": 90,
     "metadata": {},
     "output_type": "execute_result"
    }
   ],
   "source": [
    "M4 = np.array([[1,2,3],[2,4,6],[7,8,9]])\n",
    "np.linalg.matrix_rank(M4)"
   ]
  },
  {
   "cell_type": "markdown",
   "id": "4dcecff2",
   "metadata": {},
   "source": [
    "### Row Matrix"
   ]
  },
  {
   "cell_type": "code",
   "execution_count": 91,
   "id": "e8e2929c",
   "metadata": {},
   "outputs": [
    {
     "data": {
      "text/plain": [
       "array([[4, 5, 6],\n",
       "       [2, 1, 9],\n",
       "       [0, 2, 8]])"
      ]
     },
     "execution_count": 91,
     "metadata": {},
     "output_type": "execute_result"
    }
   ],
   "source": [
    "M1"
   ]
  },
  {
   "cell_type": "code",
   "execution_count": 118,
   "id": "ea979c59",
   "metadata": {},
   "outputs": [],
   "source": [
    "R = M1.reshape(1,-1)"
   ]
  },
  {
   "cell_type": "code",
   "execution_count": 119,
   "id": "3ac7d31e",
   "metadata": {},
   "outputs": [
    {
     "data": {
      "text/plain": [
       "(1, 9)"
      ]
     },
     "execution_count": 119,
     "metadata": {},
     "output_type": "execute_result"
    }
   ],
   "source": [
    "R.shape"
   ]
  },
  {
   "cell_type": "code",
   "execution_count": 120,
   "id": "9657ca18",
   "metadata": {},
   "outputs": [
    {
     "data": {
      "text/plain": [
       "array([[4, 5, 6, 2, 1, 9, 0, 2, 8]])"
      ]
     },
     "execution_count": 120,
     "metadata": {},
     "output_type": "execute_result"
    }
   ],
   "source": [
    "R"
   ]
  },
  {
   "cell_type": "markdown",
   "id": "1a64c4ac",
   "metadata": {},
   "source": [
    "### column Matrix"
   ]
  },
  {
   "cell_type": "code",
   "execution_count": 121,
   "id": "a922e907",
   "metadata": {},
   "outputs": [],
   "source": [
    "C = M1.reshape(-1,1)"
   ]
  },
  {
   "cell_type": "code",
   "execution_count": 122,
   "id": "a3009eaf",
   "metadata": {},
   "outputs": [
    {
     "data": {
      "text/plain": [
       "(9, 1)"
      ]
     },
     "execution_count": 122,
     "metadata": {},
     "output_type": "execute_result"
    }
   ],
   "source": [
    "C.shape"
   ]
  },
  {
   "cell_type": "code",
   "execution_count": 123,
   "id": "f96ca7f4",
   "metadata": {},
   "outputs": [
    {
     "data": {
      "text/plain": [
       "array([[4],\n",
       "       [5],\n",
       "       [6],\n",
       "       [2],\n",
       "       [1],\n",
       "       [9],\n",
       "       [0],\n",
       "       [2],\n",
       "       [8]])"
      ]
     },
     "execution_count": 123,
     "metadata": {},
     "output_type": "execute_result"
    }
   ],
   "source": [
    "C\n"
   ]
  },
  {
   "cell_type": "code",
   "execution_count": 124,
   "id": "3268a4a4",
   "metadata": {},
   "outputs": [
    {
     "data": {
      "text/plain": [
       "array([[4, 5, 6, 2, 1, 9, 0, 2, 8]])"
      ]
     },
     "execution_count": 124,
     "metadata": {},
     "output_type": "execute_result"
    }
   ],
   "source": [
    "C.T"
   ]
  },
  {
   "cell_type": "code",
   "execution_count": 125,
   "id": "733f2724",
   "metadata": {},
   "outputs": [
    {
     "data": {
      "text/plain": [
       "array([[4],\n",
       "       [5],\n",
       "       [6],\n",
       "       [2],\n",
       "       [1],\n",
       "       [9],\n",
       "       [0],\n",
       "       [2],\n",
       "       [8]])"
      ]
     },
     "execution_count": 125,
     "metadata": {},
     "output_type": "execute_result"
    }
   ],
   "source": [
    "R.T"
   ]
  },
  {
   "cell_type": "markdown",
   "id": "4ec19b02",
   "metadata": {},
   "source": [
    "### Square Matrix"
   ]
  },
  {
   "cell_type": "code",
   "execution_count": 138,
   "id": "abc94c32",
   "metadata": {},
   "outputs": [],
   "source": [
    "\n",
    "def isSquareMatrix(M):\n",
    "    if M.shape[0] == M.shape[1]:\n",
    "        return True\n",
    "    else:\n",
    "        return False\n",
    "    \n",
    "  "
   ]
  },
  {
   "cell_type": "code",
   "execution_count": 139,
   "id": "9feed27e",
   "metadata": {},
   "outputs": [
    {
     "data": {
      "text/plain": [
       "True"
      ]
     },
     "execution_count": 139,
     "metadata": {},
     "output_type": "execute_result"
    }
   ],
   "source": [
    "isSquareMatrix(M1)  "
   ]
  },
  {
   "cell_type": "code",
   "execution_count": 140,
   "id": "7b7c7156",
   "metadata": {},
   "outputs": [
    {
     "data": {
      "text/plain": [
       "False"
      ]
     },
     "execution_count": 140,
     "metadata": {},
     "output_type": "execute_result"
    }
   ],
   "source": [
    "isSquareMatrix(M) "
   ]
  },
  {
   "cell_type": "code",
   "execution_count": 150,
   "id": "e724d997",
   "metadata": {},
   "outputs": [],
   "source": [
    "S = np.zeros([4,4],dtype = np.int8)\n",
    "S=S+4"
   ]
  },
  {
   "cell_type": "code",
   "execution_count": 151,
   "id": "9880c1e9",
   "metadata": {},
   "outputs": [
    {
     "data": {
      "text/plain": [
       "array([[4, 4, 4, 4],\n",
       "       [4, 4, 4, 4],\n",
       "       [4, 4, 4, 4],\n",
       "       [4, 4, 4, 4]], dtype=int8)"
      ]
     },
     "execution_count": 151,
     "metadata": {},
     "output_type": "execute_result"
    }
   ],
   "source": [
    "S"
   ]
  },
  {
   "cell_type": "markdown",
   "id": "b19e1092",
   "metadata": {},
   "source": [
    "### Rectangular Matrix"
   ]
  },
  {
   "cell_type": "code",
   "execution_count": 153,
   "id": "72a85bf7",
   "metadata": {},
   "outputs": [],
   "source": [
    "def isSquareMatrix(M):\n",
    "    if M.shape[0] != M.shape[1]:\n",
    "        return True\n",
    "    else:\n",
    "        return False\n",
    "    "
   ]
  },
  {
   "cell_type": "code",
   "execution_count": 160,
   "id": "fe1b0a22",
   "metadata": {},
   "outputs": [
    {
     "data": {
      "text/plain": [
       "(4, 4)"
      ]
     },
     "execution_count": 160,
     "metadata": {},
     "output_type": "execute_result"
    }
   ],
   "source": [
    "S.shape"
   ]
  },
  {
   "cell_type": "code",
   "execution_count": 161,
   "id": "daded00c",
   "metadata": {},
   "outputs": [
    {
     "data": {
      "text/plain": [
       "False"
      ]
     },
     "execution_count": 161,
     "metadata": {},
     "output_type": "execute_result"
    }
   ],
   "source": [
    "isSquareMatrix(S)  "
   ]
  },
  {
   "cell_type": "code",
   "execution_count": 163,
   "id": "e6f915aa",
   "metadata": {},
   "outputs": [
    {
     "data": {
      "text/plain": [
       "(3, 4)"
      ]
     },
     "execution_count": 163,
     "metadata": {},
     "output_type": "execute_result"
    }
   ],
   "source": [
    "M.shape"
   ]
  },
  {
   "cell_type": "code",
   "execution_count": 164,
   "id": "2a6336d2",
   "metadata": {},
   "outputs": [
    {
     "data": {
      "text/plain": [
       "True"
      ]
     },
     "execution_count": 164,
     "metadata": {},
     "output_type": "execute_result"
    }
   ],
   "source": [
    "isSquareMatrix(M)"
   ]
  },
  {
   "cell_type": "markdown",
   "id": "5c7bd9ae",
   "metadata": {},
   "source": [
    "### Diagonal Matrix"
   ]
  },
  {
   "cell_type": "code",
   "execution_count": 185,
   "id": "7caddaed",
   "metadata": {},
   "outputs": [],
   "source": [
    "S = np.zeros([4,4],dtype = np.int8)"
   ]
  },
  {
   "cell_type": "code",
   "execution_count": 186,
   "id": "f2c7faa0",
   "metadata": {},
   "outputs": [
    {
     "data": {
      "text/plain": [
       "array([[0, 0, 0, 0],\n",
       "       [0, 0, 0, 0],\n",
       "       [0, 0, 0, 0],\n",
       "       [0, 0, 0, 0]], dtype=int8)"
      ]
     },
     "execution_count": 186,
     "metadata": {},
     "output_type": "execute_result"
    }
   ],
   "source": [
    "S"
   ]
  },
  {
   "cell_type": "code",
   "execution_count": 187,
   "id": "b802d10f",
   "metadata": {},
   "outputs": [
    {
     "data": {
      "text/plain": [
       "array([[4, 0, 0, 0],\n",
       "       [0, 4, 0, 0],\n",
       "       [0, 0, 4, 0],\n",
       "       [0, 0, 0, 4]], dtype=int8)"
      ]
     },
     "execution_count": 187,
     "metadata": {},
     "output_type": "execute_result"
    }
   ],
   "source": [
    "for i in range(4):\n",
    "    S[i][i] = 4\n",
    "    \n",
    "S\n",
    "   "
   ]
  },
  {
   "cell_type": "code",
   "execution_count": 219,
   "id": "5ca44922",
   "metadata": {},
   "outputs": [],
   "source": [
    "def isDiagonalMatrix(M):\n",
    "    for i in range(M.shape[0]):\n",
    "        for j in range(M.shape[1]):\n",
    "            if i != j and M[i][j] != 0:\n",
    "                return False\n",
    "    return True "
   ]
  },
  {
   "cell_type": "code",
   "execution_count": 220,
   "id": "cb24151a",
   "metadata": {},
   "outputs": [
    {
     "data": {
      "text/plain": [
       "array([[4, 0, 0, 0],\n",
       "       [0, 4, 5, 0],\n",
       "       [0, 0, 4, 0],\n",
       "       [0, 0, 0, 4]], dtype=int8)"
      ]
     },
     "execution_count": 220,
     "metadata": {},
     "output_type": "execute_result"
    }
   ],
   "source": [
    "D[1][2] = 5\n",
    "D"
   ]
  },
  {
   "cell_type": "code",
   "execution_count": 221,
   "id": "3050d24e",
   "metadata": {},
   "outputs": [
    {
     "data": {
      "text/plain": [
       "False"
      ]
     },
     "execution_count": 221,
     "metadata": {},
     "output_type": "execute_result"
    }
   ],
   "source": [
    "isDiagonalMatrix(D)"
   ]
  },
  {
   "cell_type": "code",
   "execution_count": 222,
   "id": "554bf9f5",
   "metadata": {},
   "outputs": [],
   "source": [
    "D = np.zeros([4,4],dtype = np.int8)\n",
    "for i in range(4):\n",
    "    D[i][i] = 4\n",
    "    \n",
    "\n",
    "    "
   ]
  },
  {
   "cell_type": "markdown",
   "id": "07855566",
   "metadata": {},
   "source": [
    " ### identity Matrix"
   ]
  },
  {
   "cell_type": "code",
   "execution_count": 196,
   "id": "e78cb1f4",
   "metadata": {},
   "outputs": [
    {
     "data": {
      "text/plain": [
       "array([[1, 0, 0, 0],\n",
       "       [0, 1, 0, 0],\n",
       "       [0, 0, 1, 0],\n",
       "       [0, 0, 0, 1]], dtype=int8)"
      ]
     },
     "execution_count": 196,
     "metadata": {},
     "output_type": "execute_result"
    }
   ],
   "source": [
    "I = np.zeros([4,4],dtype = np.int8)\n",
    "for i in range(4):\n",
    "    I[i][i] = 1\n",
    "    \n",
    "I "
   ]
  },
  {
   "cell_type": "code",
   "execution_count": 223,
   "id": "3a6de8b9",
   "metadata": {},
   "outputs": [
    {
     "data": {
      "text/plain": [
       "array([1, 1, 1, 1], dtype=int8)"
      ]
     },
     "execution_count": 223,
     "metadata": {},
     "output_type": "execute_result"
    }
   ],
   "source": [
    "np.diag(I)"
   ]
  },
  {
   "cell_type": "markdown",
   "id": "77b528aa",
   "metadata": {},
   "source": [
    "## Symmetric Matrix"
   ]
  },
  {
   "cell_type": "code",
   "execution_count": 271,
   "id": "57f6dbc8",
   "metadata": {},
   "outputs": [],
   "source": [
    "M4 = np.array([[2,3,6],[3,4,5],[6,5,9]])"
   ]
  },
  {
   "cell_type": "code",
   "execution_count": 272,
   "id": "672ddf03",
   "metadata": {},
   "outputs": [
    {
     "data": {
      "text/plain": [
       "9"
      ]
     },
     "execution_count": 272,
     "metadata": {},
     "output_type": "execute_result"
    }
   ],
   "source": [
    "(M4 == M4.T).sum()"
   ]
  },
  {
   "cell_type": "code",
   "execution_count": 273,
   "id": "4fbe21d1",
   "metadata": {},
   "outputs": [
    {
     "data": {
      "text/plain": [
       "9"
      ]
     },
     "execution_count": 273,
     "metadata": {},
     "output_type": "execute_result"
    }
   ],
   "source": [
    "M4.size"
   ]
  },
  {
   "cell_type": "code",
   "execution_count": 277,
   "id": "c532778b",
   "metadata": {},
   "outputs": [],
   "source": [
    "def isSymmetricMatrix(M):\n",
    "    if (M == t).sum()==M.size:\n",
    "        return True\n",
    "    else:\n",
    "        return False"
   ]
  },
  {
   "cell_type": "code",
   "execution_count": 281,
   "id": "bdccd179",
   "metadata": {},
   "outputs": [
    {
     "data": {
      "text/plain": [
       "True"
      ]
     },
     "execution_count": 281,
     "metadata": {},
     "output_type": "execute_result"
    }
   ],
   "source": [
    "isSymmetricMatrix(M4)"
   ]
  },
  {
   "cell_type": "code",
   "execution_count": 282,
   "id": "e0197809",
   "metadata": {},
   "outputs": [
    {
     "data": {
      "text/plain": [
       "False"
      ]
     },
     "execution_count": 282,
     "metadata": {},
     "output_type": "execute_result"
    }
   ],
   "source": [
    "isSymmetricMatrix(M1)"
   ]
  },
  {
   "cell_type": "markdown",
   "id": "1429a436",
   "metadata": {},
   "source": [
    "## Skew-Symmetric Matrix"
   ]
  },
  {
   "cell_type": "code",
   "execution_count": 283,
   "id": "54e71729",
   "metadata": {},
   "outputs": [],
   "source": [
    "S2 = np.array([[0,3],[-3,0]])"
   ]
  },
  {
   "cell_type": "code",
   "execution_count": 284,
   "id": "06f3a6a0",
   "metadata": {},
   "outputs": [
    {
     "data": {
      "text/plain": [
       "array([[ 0,  3],\n",
       "       [-3,  0]])"
      ]
     },
     "execution_count": 284,
     "metadata": {},
     "output_type": "execute_result"
    }
   ],
   "source": [
    "S2"
   ]
  },
  {
   "cell_type": "code",
   "execution_count": 285,
   "id": "dc1ccd4b",
   "metadata": {},
   "outputs": [
    {
     "data": {
      "text/plain": [
       "array([[ 0, -3],\n",
       "       [ 3,  0]])"
      ]
     },
     "execution_count": 285,
     "metadata": {},
     "output_type": "execute_result"
    }
   ],
   "source": [
    "-S2"
   ]
  },
  {
   "cell_type": "code",
   "execution_count": 286,
   "id": "beccae69",
   "metadata": {},
   "outputs": [
    {
     "data": {
      "text/plain": [
       "array([[ 0, -3],\n",
       "       [ 3,  0]])"
      ]
     },
     "execution_count": 286,
     "metadata": {},
     "output_type": "execute_result"
    }
   ],
   "source": [
    "S2.T"
   ]
  },
  {
   "cell_type": "code",
   "execution_count": 287,
   "id": "1d0843f4",
   "metadata": {},
   "outputs": [
    {
     "data": {
      "text/plain": [
       "4"
      ]
     },
     "execution_count": 287,
     "metadata": {},
     "output_type": "execute_result"
    }
   ],
   "source": [
    "S2.size"
   ]
  },
  {
   "cell_type": "code",
   "execution_count": 293,
   "id": "3fac54d4",
   "metadata": {},
   "outputs": [
    {
     "data": {
      "text/plain": [
       "array([[ True,  True],\n",
       "       [ True,  True]])"
      ]
     },
     "execution_count": 293,
     "metadata": {},
     "output_type": "execute_result"
    }
   ],
   "source": [
    "(-S2 == S2.T)"
   ]
  },
  {
   "cell_type": "markdown",
   "id": "ff03e452",
   "metadata": {},
   "source": [
    "## Eigen Values and Vectors"
   ]
  },
  {
   "cell_type": "code",
   "execution_count": 301,
   "id": "93dc61e8",
   "metadata": {},
   "outputs": [
    {
     "name": "stdout",
     "output_type": "stream",
     "text": [
      "EigenValues:\n",
      "[-7.  6.]\n",
      "EigenVectors:\n",
      "[[-0.9486833  -0.24253563]\n",
      " [ 0.31622777 -0.9701425 ]]\n"
     ]
    }
   ],
   "source": [
    "A = np.array([[-6,3],[4,5]])\n",
    "\n",
    "eigenvalues,eigenvectors = np.linalg.eig(A)\n",
    "\n",
    "print(\"EigenValues:\")\n",
    "print(eigenvalues)\n",
    "\n",
    "print(\"EigenVectors:\")\n",
    "print(eigenvectors)\n"
   ]
  },
  {
   "cell_type": "code",
   "execution_count": 302,
   "id": "1192928c",
   "metadata": {},
   "outputs": [
    {
     "data": {
      "text/plain": [
       "array([[ 6.64078309, -1.45521375],\n",
       "       [-2.21359436, -5.820855  ]])"
      ]
     },
     "execution_count": 302,
     "metadata": {},
     "output_type": "execute_result"
    }
   ],
   "source": [
    "A @ eigenvectors\n",
    "    "
   ]
  },
  {
   "cell_type": "code",
   "execution_count": 303,
   "id": "b171c376",
   "metadata": {},
   "outputs": [
    {
     "data": {
      "text/plain": [
       "array([[ 6.64078309, -1.45521375],\n",
       "       [-2.21359436, -5.820855  ]])"
      ]
     },
     "execution_count": 303,
     "metadata": {},
     "output_type": "execute_result"
    }
   ],
   "source": [
    "eigenvalues * eigenvectors"
   ]
  },
  {
   "cell_type": "code",
   "execution_count": null,
   "id": "a6a10113",
   "metadata": {},
   "outputs": [],
   "source": []
  }
 ],
 "metadata": {
  "kernelspec": {
   "display_name": "Python 3 (ipykernel)",
   "language": "python",
   "name": "python3"
  },
  "language_info": {
   "codemirror_mode": {
    "name": "ipython",
    "version": 3
   },
   "file_extension": ".py",
   "mimetype": "text/x-python",
   "name": "python",
   "nbconvert_exporter": "python",
   "pygments_lexer": "ipython3",
   "version": "3.11.7"
  },
  "widgets": {
   "application/vnd.jupyter.widget-state+json": {
    "state": {},
    "version_major": 2,
    "version_minor": 0
   }
  }
 },
 "nbformat": 4,
 "nbformat_minor": 5
}
