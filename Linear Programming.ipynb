{
 "cells": [
  {
   "cell_type": "code",
   "execution_count": 1,
   "id": "4aae32db-0dae-4d0c-beb8-2c1ed3577505",
   "metadata": {},
   "outputs": [],
   "source": [
    "#pip install pulp"
   ]
  },
  {
   "cell_type": "markdown",
   "id": "26dad495-566f-4916-9a64-e27ba1dac208",
   "metadata": {},
   "source": [
    "#### Q1)A small bakery wants to maximize its daily profit by producing cookies and cakes . They have limited flour and oven space available.\n",
    "\n",
    "#### Profit per unit :\n",
    "     cookies : rs.10 per cookie\n",
    "     cakes : rs.200 per cake\n",
    "\n",
    "#### Flour Requirement per unit:\n",
    "    cookies : 1 cup per cookie\n",
    "    cakes : 2 cups per cake\n",
    "\n",
    "#### Oven time per unit:\n",
    "    Cookies = 10 min per cookie\n",
    "    Cakes : 15 min per cake\n",
    "\n",
    "#### Available Resources : \n",
    "    Floue : 100 cups\n",
    "    OvenTime : 240 Min\n",
    "\n",
    "\n",
    "#### Objective : Maximize the total daily profit"
   ]
  },
  {
   "cell_type": "code",
   "execution_count": 2,
   "id": "a83d1522-07b6-4128-96b6-921161633364",
   "metadata": {},
   "outputs": [],
   "source": [
    "from pulp import LpProblem,LpVariable,LpMaximize,LpStatus, LpMinimize"
   ]
  },
  {
   "cell_type": "code",
   "execution_count": 3,
   "id": "0c67bcb8-9dd5-449c-a9dd-40c15aad4ed5",
   "metadata": {},
   "outputs": [],
   "source": [
    "# create the optimization problem\n",
    "\n",
    "problem = LpProblem(\"Bakery_Profit_Maximization\",LpMaximize)"
   ]
  },
  {
   "cell_type": "code",
   "execution_count": 4,
   "id": "6214cdfa-79ab-453e-9193-41f9997da9e7",
   "metadata": {},
   "outputs": [],
   "source": [
    "# Decision Variables\n",
    "\n",
    "cookies = LpVariable(\"Cookies\",lowBound = 15)  # number of cookies to produce(non-negative)\n",
    "cakes = LpVariable(\"Cakes\",lowBound = 0,upBound=15)      # number of cakes to produce(non-negative)"
   ]
  },
  {
   "cell_type": "code",
   "execution_count": 5,
   "id": "a18199ba-2e41-498f-86da-e74656b6d575",
   "metadata": {},
   "outputs": [],
   "source": [
    "# objective function(maximize total profit)\n",
    "\n",
    "profit = 10 * cookies + 200 * cakes\n",
    "\n",
    "problem += profit"
   ]
  },
  {
   "cell_type": "code",
   "execution_count": 6,
   "id": "d6a972c8-5c43-4d60-ad83-1a76108aef96",
   "metadata": {},
   "outputs": [
    {
     "data": {
      "text/plain": [
       "Bakery_Profit_Maximization:\n",
       "MAXIMIZE\n",
       "200*Cakes + 10*Cookies + 0\n",
       "VARIABLES\n",
       "Cakes <= 15 Continuous\n",
       "15 <= Cookies Continuous"
      ]
     },
     "execution_count": 6,
     "metadata": {},
     "output_type": "execute_result"
    }
   ],
   "source": [
    "problem"
   ]
  },
  {
   "cell_type": "code",
   "execution_count": 7,
   "id": "fa57e793-b690-4334-aa06-64e67f709b97",
   "metadata": {},
   "outputs": [
    {
     "data": {
      "text/plain": [
       "pulp.pulp.LpProblem"
      ]
     },
     "execution_count": 7,
     "metadata": {},
     "output_type": "execute_result"
    }
   ],
   "source": [
    "type(problem)"
   ]
  },
  {
   "cell_type": "code",
   "execution_count": 8,
   "id": "f38c30df-e17d-418b-bdd7-9954a218300f",
   "metadata": {},
   "outputs": [],
   "source": [
    "# constraints 1 : Flour Limitation\n",
    "\n",
    "problem += 1 * cookies + 2 * cakes <= 100\n",
    "\n",
    "# Flour requirement per unit * no of units  <= Total flour"
   ]
  },
  {
   "cell_type": "code",
   "execution_count": 9,
   "id": "0a7e9047-5786-4e2d-b82f-2993df8cfe7f",
   "metadata": {},
   "outputs": [],
   "source": [
    "# constraints  : Oven time Limitation\n",
    "\n",
    "problem += 10 * cookies + 15 * cakes <= 240\n",
    "\n",
    "# Oven time per unit * no of units  <= Total Oven time"
   ]
  },
  {
   "cell_type": "code",
   "execution_count": 10,
   "id": "af668b56-f3d8-455b-af2c-e136b622dde2",
   "metadata": {},
   "outputs": [
    {
     "data": {
      "text/plain": [
       "Bakery_Profit_Maximization:\n",
       "MAXIMIZE\n",
       "200*Cakes + 10*Cookies + 0\n",
       "SUBJECT TO\n",
       "_C1: 2 Cakes + Cookies <= 100\n",
       "\n",
       "_C2: 15 Cakes + 10 Cookies <= 240\n",
       "\n",
       "VARIABLES\n",
       "Cakes <= 15 Continuous\n",
       "15 <= Cookies Continuous"
      ]
     },
     "execution_count": 10,
     "metadata": {},
     "output_type": "execute_result"
    }
   ],
   "source": [
    "problem"
   ]
  },
  {
   "cell_type": "code",
   "execution_count": 11,
   "id": "a3d8719d-0b24-4b6d-b718-5cec41f0a829",
   "metadata": {},
   "outputs": [],
   "source": [
    "# solve the problem\n",
    "status = problem.solve()"
   ]
  },
  {
   "cell_type": "code",
   "execution_count": 12,
   "id": "7491cedb-dd17-4f5b-9484-e2e8ff9959ae",
   "metadata": {},
   "outputs": [
    {
     "data": {
      "text/plain": [
       "1"
      ]
     },
     "execution_count": 12,
     "metadata": {},
     "output_type": "execute_result"
    }
   ],
   "source": [
    "status"
   ]
  },
  {
   "cell_type": "code",
   "execution_count": 13,
   "id": "551eb25f-a5f2-4037-8240-1030cf015ff0",
   "metadata": {},
   "outputs": [
    {
     "data": {
      "text/plain": [
       "'Optimal'"
      ]
     },
     "execution_count": 13,
     "metadata": {},
     "output_type": "execute_result"
    }
   ],
   "source": [
    "LpStatus[status]"
   ]
  },
  {
   "cell_type": "code",
   "execution_count": 14,
   "id": "3dd98356-0c4b-4ebb-8234-11998250e8cc",
   "metadata": {},
   "outputs": [
    {
     "name": "stdout",
     "output_type": "stream",
     "text": [
      "Optimal nos of cookies: 15.0\n",
      "Optimal nos of cakes: 6.0\n",
      "Max daily profit: 1350.0\n"
     ]
    }
   ],
   "source": [
    "print(\"Optimal nos of cookies:\", cookies.varValue)\n",
    "print(\"Optimal nos of cakes:\", cakes.varValue)\n",
    "print(\"Max daily profit:\", problem.objective.value())"
   ]
  },
  {
   "cell_type": "markdown",
   "id": "40c01478-0ed7-435e-b47a-dd58a16ef867",
   "metadata": {},
   "source": [
    "## Q2) A juice company needs to produce two types of juices blends:\n",
    "    Blend A: This requires 2 units of orange juice & 1 unit of apple juice per litre.\n",
    "    Blend B: This requires 1 units of orange juice & 3 unit of apple juice per litre.\n",
    "This comp want to minimize the total cost of producing a certain amount of each blends\n",
    "\n",
    "### orange juice cost: $1 per unit\n",
    "\n",
    "### apple juice cost: $0.5 per unit\n",
    "\n",
    "### production Target:\n",
    "### 100 litre of Blend A\n",
    "### 150 litre of Blend B"
   ]
  },
  {
   "cell_type": "code",
   "execution_count": 28,
   "id": "bc0dfc1c-e25d-45db-865f-4a8958db336e",
   "metadata": {},
   "outputs": [],
   "source": [
    "problem1 = LpProblem(\"juice_blend_Minimization\",LpMinimize)"
   ]
  },
  {
   "cell_type": "code",
   "execution_count": 29,
   "id": "33d12dbe-a8cd-4d7f-a936-321e07cbcc0a",
   "metadata": {},
   "outputs": [],
   "source": [
    "orange = LpVariable(\"orange\",lowBound = 0) \n",
    "apple = LpVariable(\"Apple\",lowBound = 0) "
   ]
  },
  {
   "cell_type": "code",
   "execution_count": 30,
   "id": "919033b7-2e06-49e4-9887-1cf71d60eb7a",
   "metadata": {},
   "outputs": [],
   "source": [
    "objective = 1 *orange + 0.5 *apple\n",
    "\n",
    "problem1 += objective"
   ]
  },
  {
   "cell_type": "code",
   "execution_count": 31,
   "id": "3ea1f9f6-0326-4877-b23f-cc0f84628ae7",
   "metadata": {},
   "outputs": [],
   "source": [
    "problem1 += 2*orange + apple <= 200"
   ]
  },
  {
   "cell_type": "code",
   "execution_count": 32,
   "id": "f90b6401-7c75-4530-af45-80032d138da3",
   "metadata": {},
   "outputs": [],
   "source": [
    "problem1 += orange + 3*apple <= 300"
   ]
  },
  {
   "cell_type": "code",
   "execution_count": 33,
   "id": "3878f083-a550-4ad5-9809-e3fbeccff4e6",
   "metadata": {},
   "outputs": [],
   "source": [
    "problem1 += orange >= 100"
   ]
  },
  {
   "cell_type": "code",
   "execution_count": 34,
   "id": "d37a068e-f386-4b6c-9027-e98a6959a091",
   "metadata": {},
   "outputs": [],
   "source": [
    "problem1 += apple >= 150"
   ]
  },
  {
   "cell_type": "code",
   "execution_count": 40,
   "id": "758ba128-dd5e-4fc0-b6af-8cbc2c6330a5",
   "metadata": {},
   "outputs": [
    {
     "data": {
      "text/plain": [
       "juice_blend_Minimization:\n",
       "MINIMIZE\n",
       "0.5*Apple + 1*orange + 0.0\n",
       "SUBJECT TO\n",
       "_C1: Apple + 2 orange <= 200\n",
       "\n",
       "_C2: 3 Apple + orange <= 300\n",
       "\n",
       "_C3: orange >= 100\n",
       "\n",
       "_C4: Apple >= 150\n",
       "\n",
       "VARIABLES\n",
       "Apple Continuous\n",
       "orange Continuous"
      ]
     },
     "execution_count": 40,
     "metadata": {},
     "output_type": "execute_result"
    }
   ],
   "source": [
    "problem1"
   ]
  },
  {
   "cell_type": "code",
   "execution_count": 41,
   "id": "e0f40f18-fdae-4bd8-ac9d-172b0f159fae",
   "metadata": {},
   "outputs": [],
   "source": [
    "status = problem1.solve()"
   ]
  },
  {
   "cell_type": "code",
   "execution_count": 42,
   "id": "944ac54e-da70-4804-ad87-411540d66a56",
   "metadata": {},
   "outputs": [
    {
     "data": {
      "text/plain": [
       "-1"
      ]
     },
     "execution_count": 42,
     "metadata": {},
     "output_type": "execute_result"
    }
   ],
   "source": [
    "status"
   ]
  },
  {
   "cell_type": "code",
   "execution_count": 46,
   "id": "bd5ddbec-2d1c-4e11-8b4f-2baa5e2c365f",
   "metadata": {},
   "outputs": [
    {
     "data": {
      "text/plain": [
       "'Infeasible'"
      ]
     },
     "execution_count": 46,
     "metadata": {},
     "output_type": "execute_result"
    }
   ],
   "source": [
    "LpStatus[status]"
   ]
  },
  {
   "cell_type": "code",
   "execution_count": 47,
   "id": "2896c7c4-9c20-479a-9955-50a30f3b1e83",
   "metadata": {},
   "outputs": [
    {
     "name": "stdout",
     "output_type": "stream",
     "text": [
      "Blend A production: 100.00 liters\n",
      "Blend B production: 150.00 liters\n",
      "Total cost: $175.00\n"
     ]
    }
   ],
   "source": [
    "print(f\"Blend A production: {LpVariable.value(orange):.2f} liters\")\n",
    "print(f\"Blend B production: {LpVariable.value(apple):.2f} liters\")\n",
    "print(f\"Total cost: ${problem1.objective.value():.2f}\")"
   ]
  },
  {
   "cell_type": "code",
   "execution_count": null,
   "id": "ad81eec4-233d-4b9f-850e-38a0ea1d906c",
   "metadata": {},
   "outputs": [],
   "source": []
  }
 ],
 "metadata": {
  "kernelspec": {
   "display_name": "Python 3 (ipykernel)",
   "language": "python",
   "name": "python3"
  },
  "language_info": {
   "codemirror_mode": {
    "name": "ipython",
    "version": 3
   },
   "file_extension": ".py",
   "mimetype": "text/x-python",
   "name": "python",
   "nbconvert_exporter": "python",
   "pygments_lexer": "ipython3",
   "version": "3.11.7"
  },
  "widgets": {
   "application/vnd.jupyter.widget-state+json": {
    "state": {},
    "version_major": 2,
    "version_minor": 0
   }
  }
 },
 "nbformat": 4,
 "nbformat_minor": 5
}
