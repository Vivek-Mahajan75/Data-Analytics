{
 "cells": [
  {
   "cell_type": "markdown",
   "id": "ec7b05b9",
   "metadata": {},
   "source": [
    "## LU Decomposition"
   ]
  },
  {
   "cell_type": "code",
   "execution_count": 1,
   "id": "7b67428b",
   "metadata": {},
   "outputs": [],
   "source": [
    "import numpy as np\n",
    "from scipy.linalg import lu"
   ]
  },
  {
   "cell_type": "code",
   "execution_count": 2,
   "id": "2ba28f76",
   "metadata": {},
   "outputs": [],
   "source": [
    "M = np.array([[4,5,6],[2,1,4],[9,1,3]])"
   ]
  },
  {
   "cell_type": "code",
   "execution_count": 3,
   "id": "04299fd0",
   "metadata": {},
   "outputs": [
    {
     "data": {
      "text/plain": [
       "array([[4, 5, 6],\n",
       "       [2, 1, 4],\n",
       "       [9, 1, 3]])"
      ]
     },
     "execution_count": 3,
     "metadata": {},
     "output_type": "execute_result"
    }
   ],
   "source": [
    "M"
   ]
  },
  {
   "cell_type": "code",
   "execution_count": 4,
   "id": "0ce98a77",
   "metadata": {},
   "outputs": [],
   "source": [
    " P , L, U = lu(M)"
   ]
  },
  {
   "cell_type": "code",
   "execution_count": 5,
   "id": "85c5064f",
   "metadata": {},
   "outputs": [
    {
     "data": {
      "text/plain": [
       "array([[1.        , 0.        , 0.        ],\n",
       "       [0.44444444, 1.        , 0.        ],\n",
       "       [0.22222222, 0.17073171, 1.        ]])"
      ]
     },
     "execution_count": 5,
     "metadata": {},
     "output_type": "execute_result"
    }
   ],
   "source": [
    "L"
   ]
  },
  {
   "cell_type": "code",
   "execution_count": 6,
   "id": "b709cbb8",
   "metadata": {},
   "outputs": [
    {
     "data": {
      "text/plain": [
       "array([[9.        , 1.        , 3.        ],\n",
       "       [0.        , 4.55555556, 4.66666667],\n",
       "       [0.        , 0.        , 2.53658537]])"
      ]
     },
     "execution_count": 6,
     "metadata": {},
     "output_type": "execute_result"
    }
   ],
   "source": [
    "U"
   ]
  },
  {
   "cell_type": "code",
   "execution_count": 7,
   "id": "cacc262e",
   "metadata": {},
   "outputs": [
    {
     "data": {
      "text/plain": [
       "array([[0., 1., 0.],\n",
       "       [0., 0., 1.],\n",
       "       [1., 0., 0.]])"
      ]
     },
     "execution_count": 7,
     "metadata": {},
     "output_type": "execute_result"
    }
   ],
   "source": [
    "P"
   ]
  },
  {
   "cell_type": "code",
   "execution_count": 8,
   "id": "dcd0bde4",
   "metadata": {},
   "outputs": [
    {
     "data": {
      "text/plain": [
       "array([[4., 5., 6.],\n",
       "       [2., 1., 4.],\n",
       "       [9., 1., 3.]])"
      ]
     },
     "execution_count": 8,
     "metadata": {},
     "output_type": "execute_result"
    }
   ],
   "source": [
    "P @ L @ U"
   ]
  },
  {
   "cell_type": "markdown",
   "id": "9db1f933",
   "metadata": {},
   "source": [
    "## QR Decomposition"
   ]
  },
  {
   "cell_type": "code",
   "execution_count": 9,
   "id": "1ba5bd5a",
   "metadata": {},
   "outputs": [],
   "source": [
    "M =np.array([[1,8,6],[3,2,0],[5,4,7],[9,3,5]])"
   ]
  },
  {
   "cell_type": "code",
   "execution_count": 10,
   "id": "34958e08",
   "metadata": {},
   "outputs": [
    {
     "data": {
      "text/plain": [
       "array([[1, 8, 6],\n",
       "       [3, 2, 0],\n",
       "       [5, 4, 7],\n",
       "       [9, 3, 5]])"
      ]
     },
     "execution_count": 10,
     "metadata": {},
     "output_type": "execute_result"
    }
   ],
   "source": [
    "M"
   ]
  },
  {
   "cell_type": "code",
   "execution_count": 11,
   "id": "33af0411",
   "metadata": {},
   "outputs": [],
   "source": [
    "from scipy.linalg import qr"
   ]
  },
  {
   "cell_type": "code",
   "execution_count": 12,
   "id": "407dd705",
   "metadata": {},
   "outputs": [],
   "source": [
    "Q, R = qr(M)"
   ]
  },
  {
   "cell_type": "code",
   "execution_count": 13,
   "id": "4dbe9a0b",
   "metadata": {},
   "outputs": [
    {
     "data": {
      "text/plain": [
       "array([[-0.09284767,  0.95757447,  0.10380886,  0.25229779],\n",
       "       [-0.27854301,  0.05411897,  0.73842016, -0.61173573],\n",
       "       [-0.46423835,  0.17561054, -0.65755203, -0.56680598],\n",
       "       [-0.83562902, -0.22199823,  0.10763231,  0.49077103]])"
      ]
     },
     "execution_count": 13,
     "metadata": {},
     "output_type": "execute_result"
    }
   ],
   "source": [
    "Q"
   ]
  },
  {
   "cell_type": "code",
   "execution_count": 14,
   "id": "5f22d7fc",
   "metadata": {},
   "outputs": [
    {
     "data": {
      "text/plain": [
       "array([[-10.77032961,  -5.66370781,  -7.98489954],\n",
       "       [  0.        ,   7.80528115,   5.86472943],\n",
       "       [  0.        ,   0.        ,  -3.4418495 ],\n",
       "       [  0.        ,   0.        ,   0.        ]])"
      ]
     },
     "execution_count": 14,
     "metadata": {},
     "output_type": "execute_result"
    }
   ],
   "source": [
    "R"
   ]
  },
  {
   "cell_type": "code",
   "execution_count": 15,
   "id": "6baff277",
   "metadata": {},
   "outputs": [
    {
     "data": {
      "text/plain": [
       "(array([[1, 8, 6],\n",
       "        [3, 2, 0],\n",
       "        [5, 4, 7],\n",
       "        [9, 3, 5]]),\n",
       " array([[ 1.,  8.,  6.],\n",
       "        [ 3.,  2., -0.],\n",
       "        [ 5.,  4.,  7.],\n",
       "        [ 9.,  3.,  5.]], dtype=float16))"
      ]
     },
     "execution_count": 15,
     "metadata": {},
     "output_type": "execute_result"
    }
   ],
   "source": [
    "M, np.array(Q @ R,dtype = np.float16) "
   ]
  },
  {
   "cell_type": "code",
   "execution_count": 16,
   "id": "0dde7c18",
   "metadata": {},
   "outputs": [
    {
     "data": {
      "text/plain": [
       "array([[ 1.0000000e+00,  8.0000000e+00,  6.0000000e+00],\n",
       "       [ 3.0000000e+00,  2.0000000e+00, -2.3869795e-15],\n",
       "       [ 5.0000000e+00,  4.0000000e+00,  7.0000000e+00],\n",
       "       [ 9.0000000e+00,  3.0000000e+00,  5.0000000e+00]])"
      ]
     },
     "execution_count": 16,
     "metadata": {},
     "output_type": "execute_result"
    }
   ],
   "source": [
    "Q @ R "
   ]
  },
  {
   "cell_type": "markdown",
   "id": "7beac48e",
   "metadata": {},
   "source": [
    "## Dimensionality Reduction"
   ]
  },
  {
   "cell_type": "markdown",
   "id": "55b6dce5",
   "metadata": {},
   "source": [
    "## Correlation Methods"
   ]
  },
  {
   "cell_type": "code",
   "execution_count": 17,
   "id": "cbcf7f19",
   "metadata": {},
   "outputs": [],
   "source": [
    "x = np.array([3,11,16,21,22,36,41,57,68,77])\n",
    "y = np.array([10,21,46,57,63,73,78,88,91,97])\n",
    "z = np.array([76,72,56,64,51,39,33,21,18,11])\n",
    "p = np.array([56,43,25,56,78,76,35,51,58,59])"
   ]
  },
  {
   "cell_type": "code",
   "execution_count": 18,
   "id": "5213436d",
   "metadata": {},
   "outputs": [],
   "source": [
    "import matplotlib.pyplot as plt"
   ]
  },
  {
   "cell_type": "code",
   "execution_count": 19,
   "id": "ff922fc4",
   "metadata": {},
   "outputs": [
    {
     "data": {
      "text/plain": [
       "<matplotlib.collections.PathCollection at 0x1b50b1cef50>"
      ]
     },
     "execution_count": 19,
     "metadata": {},
     "output_type": "execute_result"
    },
    {
     "data": {
      "image/png": "[encoded data removed]",
      "text/plain": [
       "<Figure size 640x480 with 1 Axes>"
      ]
     },
     "metadata": {},
     "output_type": "display_data"
    }
   ],
   "source": [
    "plt.scatter(x,y)"
   ]
  },
  {
   "cell_type": "code",
   "execution_count": 20,
   "id": "e5552829",
   "metadata": {},
   "outputs": [
    {
     "data": {
      "text/plain": [
       "[<matplotlib.lines.Line2D at 0x1b50b27f4d0>]"
      ]
     },
     "execution_count": 20,
     "metadata": {},
     "output_type": "execute_result"
    },
    {
     "data": {
      "image/png": "[encoded data removed]",
      "text/plain": [
       "<Figure size 640x480 with 1 Axes>"
      ]
     },
     "metadata": {},
     "output_type": "display_data"
    }
   ],
   "source": [
    "plt.plot(x,y)"
   ]
  },
  {
   "cell_type": "code",
   "execution_count": 21,
   "id": "80ef39d7",
   "metadata": {},
   "outputs": [
    {
     "data": {
      "text/plain": [
       "[<matplotlib.lines.Line2D at 0x1b50b482fd0>]"
      ]
     },
     "execution_count": 21,
     "metadata": {},
     "output_type": "execute_result"
    },
    {
     "data": {
      "image/png": "[encoded data removed]",
      "text/plain": [
       "<Figure size 640x480 with 1 Axes>"
      ]
     },
     "metadata": {},
     "output_type": "display_data"
    }
   ],
   "source": [
    "plt.plot(x,z)"
   ]
  },
  {
   "cell_type": "code",
   "execution_count": 22,
   "id": "0382380d",
   "metadata": {},
   "outputs": [
    {
     "data": {
      "text/plain": [
       "<matplotlib.collections.PathCollection at 0x1b50c50bd90>"
      ]
     },
     "execution_count": 22,
     "metadata": {},
     "output_type": "execute_result"
    },
    {
     "data": {
      "image/png": "[encoded data removed]",
      "text/plain": [
       "<Figure size 640x480 with 1 Axes>"
      ]
     },
     "metadata": {},
     "output_type": "display_data"
    }
   ],
   "source": [
    "plt.scatter(x,z)"
   ]
  },
  {
   "cell_type": "code",
   "execution_count": 23,
   "id": "de57f4e7",
   "metadata": {},
   "outputs": [
    {
     "data": {
      "text/plain": [
       "[<matplotlib.lines.Line2D at 0x1b50c587f10>]"
      ]
     },
     "execution_count": 23,
     "metadata": {},
     "output_type": "execute_result"
    },
    {
     "data": {
      "image/png": "[encoded data removed]",
      "text/plain": [
       "<Figure size 640x480 with 1 Axes>"
      ]
     },
     "metadata": {},
     "output_type": "display_data"
    }
   ],
   "source": [
    "plt.plot(x,p)"
   ]
  },
  {
   "cell_type": "code",
   "execution_count": 24,
   "id": "524441ba",
   "metadata": {},
   "outputs": [
    {
     "data": {
      "text/plain": [
       "<matplotlib.collections.PathCollection at 0x1b50c60a050>"
      ]
     },
     "execution_count": 24,
     "metadata": {},
     "output_type": "execute_result"
    },
    {
     "data": {
      "image/png": "[encoded data removed]",
      "text/plain": [
       "<Figure size 640x480 with 1 Axes>"
      ]
     },
     "metadata": {},
     "output_type": "display_data"
    }
   ],
   "source": [
    "plt.scatter(x,p)"
   ]
  },
  {
   "cell_type": "code",
   "execution_count": 25,
   "id": "61b57c87",
   "metadata": {},
   "outputs": [
    {
     "data": {
      "text/plain": [
       "[<matplotlib.lines.Line2D at 0x1b50c688c10>]"
      ]
     },
     "execution_count": 25,
     "metadata": {},
     "output_type": "execute_result"
    },
    {
     "data": {
      "image/png": "[encoded data removed]",
      "text/plain": [
       "<Figure size 640x480 with 1 Axes>"
      ]
     },
     "metadata": {},
     "output_type": "display_data"
    }
   ],
   "source": [
    "plt.plot(y,z)"
   ]
  },
  {
   "cell_type": "code",
   "execution_count": 26,
   "id": "7b394602",
   "metadata": {},
   "outputs": [
    {
     "data": {
      "text/plain": [
       "<matplotlib.collections.PathCollection at 0x1b50c6f5ad0>"
      ]
     },
     "execution_count": 26,
     "metadata": {},
     "output_type": "execute_result"
    },
    {
     "data": {
      "image/png": "[encoded data removed]",
      "text/plain": [
       "<Figure size 640x480 with 1 Axes>"
      ]
     },
     "metadata": {},
     "output_type": "display_data"
    }
   ],
   "source": [
    "plt.scatter(y,z)"
   ]
  },
  {
   "cell_type": "code",
   "execution_count": 27,
   "id": "53f717c0",
   "metadata": {},
   "outputs": [
    {
     "data": {
      "text/plain": [
       "[<matplotlib.lines.Line2D at 0x1b50c916110>]"
      ]
     },
     "execution_count": 27,
     "metadata": {},
     "output_type": "execute_result"
    },
    {
     "data": {
      "image/png": "[encoded data removed]",
      "text/plain": [
       "<Figure size 1600x500 with 3 Axes>"
      ]
     },
     "metadata": {},
     "output_type": "display_data"
    }
   ],
   "source": [
    "plt.figure(figsize=(16,5))\n",
    "plt.subplot(1,3,1)\n",
    "plt.title('Positive correlation')\n",
    "plt.plot(x,y)\n",
    "plt.subplot(1,3,2)\n",
    "plt.title('Negative correlation')\n",
    "plt.plot(x,z)\n",
    "plt.subplot(1,3,3)\n",
    "plt.title('No correlation')\n",
    "plt.plot(x,p)\n"
   ]
  },
  {
   "cell_type": "code",
   "execution_count": 28,
   "id": "5bb997f2",
   "metadata": {},
   "outputs": [
    {
     "data": {
      "text/plain": [
       "array([[1.       , 0.9179201],\n",
       "       [0.9179201, 1.       ]])"
      ]
     },
     "execution_count": 28,
     "metadata": {},
     "output_type": "execute_result"
    }
   ],
   "source": [
    "np.corrcoef(x ,y)"
   ]
  },
  {
   "cell_type": "code",
   "execution_count": 29,
   "id": "693950f8",
   "metadata": {},
   "outputs": [
    {
     "data": {
      "text/plain": [
       "array([[ 1.        , -0.97400743],\n",
       "       [-0.97400743,  1.        ]])"
      ]
     },
     "execution_count": 29,
     "metadata": {},
     "output_type": "execute_result"
    }
   ],
   "source": [
    "np.corrcoef(x , z)"
   ]
  },
  {
   "cell_type": "code",
   "execution_count": 30,
   "id": "3b22f3a1",
   "metadata": {},
   "outputs": [
    {
     "data": {
      "text/plain": [
       "array([[1.        , 0.15970874],\n",
       "       [0.15970874, 1.        ]])"
      ]
     },
     "execution_count": 30,
     "metadata": {},
     "output_type": "execute_result"
    }
   ],
   "source": [
    "np.corrcoef(x , p)"
   ]
  },
  {
   "cell_type": "code",
   "execution_count": 31,
   "id": "e5a07be8",
   "metadata": {},
   "outputs": [],
   "source": [
    "from scipy.stats import pearsonr"
   ]
  },
  {
   "cell_type": "code",
   "execution_count": 32,
   "id": "f17ac7a0",
   "metadata": {},
   "outputs": [
    {
     "data": {
      "text/plain": [
       "PearsonRResult(statistic=0.9179200999513756, pvalue=0.00017967756314829717)"
      ]
     },
     "execution_count": 32,
     "metadata": {},
     "output_type": "execute_result"
    }
   ],
   "source": [
    "pearsonr(x, y)"
   ]
  },
  {
   "cell_type": "code",
   "execution_count": 33,
   "id": "48bc97a0",
   "metadata": {},
   "outputs": [
    {
     "data": {
      "text/plain": [
       "PearsonRResult(statistic=-0.9740074276901913, pvalue=1.9353702855864422e-06)"
      ]
     },
     "execution_count": 33,
     "metadata": {},
     "output_type": "execute_result"
    }
   ],
   "source": [
    "pearsonr(x, z)"
   ]
  },
  {
   "cell_type": "code",
   "execution_count": 34,
   "id": "540c5cb5",
   "metadata": {},
   "outputs": [
    {
     "data": {
      "text/plain": [
       "PearsonRResult(statistic=0.15970874159172635, pvalue=0.6594127360961786)"
      ]
     },
     "execution_count": 34,
     "metadata": {},
     "output_type": "execute_result"
    }
   ],
   "source": [
    "pearsonr(x, p)"
   ]
  },
  {
   "cell_type": "code",
   "execution_count": 35,
   "id": "ddece15f",
   "metadata": {
    "scrolled": true
   },
   "outputs": [
    {
     "ename": "SyntaxError",
     "evalue": "incomplete input (1146099415.py, line 1)",
     "output_type": "error",
     "traceback": [
      "\u001b[1;36m  Cell \u001b[1;32mIn[35], line 1\u001b[1;36m\u001b[0m\n\u001b[1;33m    (len(x) * np.sum( x * y) - (np.sum(x)* np.sum(y))) / np.sqrt((len(x)*np.sum(x**2)-(np.sum(x)**2))*(len(x)*np.sum(y**2)-(np.sum(y)**2))\u001b[0m\n\u001b[1;37m                                                                                                                                          ^\u001b[0m\n\u001b[1;31mSyntaxError\u001b[0m\u001b[1;31m:\u001b[0m incomplete input\n"
     ]
    }
   ],
   "source": [
    "(len(x) * np.sum( x * y) - (np.sum(x)* np.sum(y))) / np.sqrt((len(x)*np.sum(x**2)-(np.sum(x)**2))*(len(x)*np.sum(y**2)-(np.sum(y)**2))"
   ]
  },
  {
   "cell_type": "code",
   "execution_count": 36,
   "id": "263bc41a",
   "metadata": {},
   "outputs": [],
   "source": [
    "height = np.array([151,174,138,186,128,136,179,163,152,131])\n",
    "weight = np.array([63,81,56,91,47,57,76,72,62,48])"
   ]
  },
  {
   "cell_type": "code",
   "execution_count": 37,
   "id": "b7fc6d3e",
   "metadata": {},
   "outputs": [
    {
     "data": {
      "text/plain": [
       "array([[1.       , 0.9771296],\n",
       "       [0.9771296, 1.       ]])"
      ]
     },
     "execution_count": 37,
     "metadata": {},
     "output_type": "execute_result"
    }
   ],
   "source": [
    "np.corrcoef(height,weight)"
   ]
  },
  {
   "cell_type": "code",
   "execution_count": 38,
   "id": "74352dc0",
   "metadata": {},
   "outputs": [
    {
     "data": {
      "text/plain": [
       "[<matplotlib.lines.Line2D at 0x1b50eb46e10>]"
      ]
     },
     "execution_count": 38,
     "metadata": {},
     "output_type": "execute_result"
    },
    {
     "data": {
      "image/png": "[encoded data removed]",
      "text/plain": [
       "<Figure size 640x480 with 1 Axes>"
      ]
     },
     "metadata": {},
     "output_type": "display_data"
    }
   ],
   "source": [
    "plt.plot(height,weight)"
   ]
  },
  {
   "cell_type": "code",
   "execution_count": 39,
   "id": "d7927eff",
   "metadata": {},
   "outputs": [
    {
     "data": {
      "text/plain": [
       "PearsonRResult(statistic=0.9771295961897944, pvalue=1.1644053107397793e-06)"
      ]
     },
     "execution_count": 39,
     "metadata": {},
     "output_type": "execute_result"
    }
   ],
   "source": [
    "pearsonr(height,weight)"
   ]
  },
  {
   "cell_type": "markdown",
   "id": "be3c9841",
   "metadata": {},
   "source": [
    " ## Normalization"
   ]
  },
  {
   "cell_type": "code",
   "execution_count": 40,
   "id": "521a9ba1",
   "metadata": {},
   "outputs": [],
   "source": [
    "d = np.array([5,8,12,4,9,11,10])"
   ]
  },
  {
   "cell_type": "code",
   "execution_count": 41,
   "id": "55164df0",
   "metadata": {},
   "outputs": [
    {
     "data": {
      "text/plain": [
       "array([0.125, 0.5  , 1.   , 0.   , 0.625, 0.875, 0.75 ])"
      ]
     },
     "execution_count": 41,
     "metadata": {},
     "output_type": "execute_result"
    }
   ],
   "source": [
    "(d - d.min()) / (d.max() - d.min())"
   ]
  },
  {
   "cell_type": "code",
   "execution_count": 42,
   "id": "f9ec5871",
   "metadata": {},
   "outputs": [],
   "source": [
    "e = np.array([315,819,502,301,214,802,628])"
   ]
  },
  {
   "cell_type": "code",
   "execution_count": 43,
   "id": "fedb9745",
   "metadata": {},
   "outputs": [
    {
     "data": {
      "text/plain": [
       "array([0.16694215, 1.        , 0.47603306, 0.14380165, 0.        ,\n",
       "       0.97190083, 0.68429752])"
      ]
     },
     "execution_count": 43,
     "metadata": {},
     "output_type": "execute_result"
    }
   ],
   "source": [
    "(e - e.min()) / (e.max() - e.min())"
   ]
  },
  {
   "cell_type": "code",
   "execution_count": 44,
   "id": "c0bc1b6b",
   "metadata": {},
   "outputs": [],
   "source": [
    "M = np.array([[5,315],[8,819],[12,502],[4,301],[9,214],[11,802],[10,628]])"
   ]
  },
  {
   "cell_type": "code",
   "execution_count": 45,
   "id": "7ae5cdd6",
   "metadata": {},
   "outputs": [
    {
     "data": {
      "text/plain": [
       "array([[  5, 315],\n",
       "       [  8, 819],\n",
       "       [ 12, 502],\n",
       "       [  4, 301],\n",
       "       [  9, 214],\n",
       "       [ 11, 802],\n",
       "       [ 10, 628]])"
      ]
     },
     "execution_count": 45,
     "metadata": {},
     "output_type": "execute_result"
    }
   ],
   "source": [
    "M"
   ]
  },
  {
   "cell_type": "code",
   "execution_count": 46,
   "id": "492a91e4",
   "metadata": {},
   "outputs": [
    {
     "data": {
      "text/plain": [
       "array([[0.125     , 0.16694215],\n",
       "       [0.5       , 1.        ],\n",
       "       [1.        , 0.47603306],\n",
       "       [0.        , 0.14380165],\n",
       "       [0.625     , 0.        ],\n",
       "       [0.875     , 0.97190083],\n",
       "       [0.75      , 0.68429752]])"
      ]
     },
     "execution_count": 46,
     "metadata": {},
     "output_type": "execute_result"
    }
   ],
   "source": [
    "# Import the class\n",
    "from sklearn.preprocessing import MinMaxScaler\n",
    "# Create the object\n",
    "scaler = MinMaxScaler()\n",
    "# Apply the method\n",
    "scaler.fit_transform(M)"
   ]
  },
  {
   "cell_type": "code",
   "execution_count": 47,
   "id": "d4518606",
   "metadata": {},
   "outputs": [
    {
     "data": {
      "text/plain": [
       "<matplotlib.collections.PathCollection at 0x1b50c935fd0>"
      ]
     },
     "execution_count": 47,
     "metadata": {},
     "output_type": "execute_result"
    },
    {
     "data": {
      "image/png": "[encoded data removed]",
      "text/plain": [
       "<Figure size 640x480 with 1 Axes>"
      ]
     },
     "metadata": {},
     "output_type": "display_data"
    }
   ],
   "source": [
    "plt.scatter(d,range(7),)\n",
    "plt.scatter(d.mean(),3.13,color='r')"
   ]
  },
  {
   "cell_type": "markdown",
   "id": "c1e70067",
   "metadata": {},
   "source": [
    "## Variance"
   ]
  },
  {
   "cell_type": "code",
   "execution_count": 52,
   "id": "13de027e",
   "metadata": {},
   "outputs": [],
   "source": [
    "variance = np.sum((d  - d.mean()) **2)/len(d)"
   ]
  },
  {
   "cell_type": "code",
   "execution_count": 53,
   "id": "856da840",
   "metadata": {},
   "outputs": [
    {
     "data": {
      "text/plain": [
       "7.673469387755101"
      ]
     },
     "execution_count": 53,
     "metadata": {},
     "output_type": "execute_result"
    }
   ],
   "source": [
    "variance"
   ]
  },
  {
   "cell_type": "markdown",
   "id": "e56ef3fd",
   "metadata": {},
   "source": [
    "## standard Deviation"
   ]
  },
  {
   "cell_type": "code",
   "execution_count": 54,
   "id": "c743978b",
   "metadata": {},
   "outputs": [
    {
     "data": {
      "text/plain": [
       "2.7701027756664733"
      ]
     },
     "execution_count": 54,
     "metadata": {},
     "output_type": "execute_result"
    }
   ],
   "source": [
    "np.sqrt(variance)"
   ]
  },
  {
   "cell_type": "code",
   "execution_count": 55,
   "id": "79def8c3",
   "metadata": {},
   "outputs": [
    {
     "data": {
      "text/plain": [
       "2.7701027756664733"
      ]
     },
     "execution_count": 55,
     "metadata": {},
     "output_type": "execute_result"
    }
   ],
   "source": [
    "np.std(d)"
   ]
  },
  {
   "cell_type": "code",
   "execution_count": 60,
   "id": "0fcf3276",
   "metadata": {},
   "outputs": [],
   "source": [
    "z = (d - d.mean()) /d.std()"
   ]
  },
  {
   "cell_type": "code",
   "execution_count": 61,
   "id": "a4dd04b1",
   "metadata": {},
   "outputs": [
    {
     "data": {
      "text/plain": [
       "1.0000000000000002"
      ]
     },
     "execution_count": 61,
     "metadata": {},
     "output_type": "execute_result"
    }
   ],
   "source": [
    "z.std()"
   ]
  },
  {
   "cell_type": "code",
   "execution_count": 63,
   "id": "c24e222f",
   "metadata": {},
   "outputs": [],
   "source": [
    "from sklearn.preprocessing import StandardScaler\n",
    "\n",
    "scaler = StandardScaler()\n",
    "\n",
    "new = scaler.fit_transform(M)"
   ]
  },
  {
   "cell_type": "code",
   "execution_count": 64,
   "id": "d4a2c381",
   "metadata": {},
   "outputs": [
    {
     "data": {
      "text/plain": [
       "array([[-1.2377055 , -0.86197809],\n",
       "       [-0.15471319,  1.34809363],\n",
       "       [ 1.28927656, -0.04197132],\n",
       "       [-1.59870293, -0.92336897],\n",
       "       [ 0.20628425, -1.30486944],\n",
       "       [ 0.92827912,  1.27354756],\n",
       "       [ 0.56728169,  0.51054661]])"
      ]
     },
     "execution_count": 64,
     "metadata": {},
     "output_type": "execute_result"
    }
   ],
   "source": [
    "new"
   ]
  },
  {
   "cell_type": "code",
   "execution_count": 65,
   "id": "731016dc",
   "metadata": {},
   "outputs": [
    {
     "data": {
      "text/plain": [
       "1.0000000000000002"
      ]
     },
     "execution_count": 65,
     "metadata": {},
     "output_type": "execute_result"
    }
   ],
   "source": [
    "new[:,0].std()"
   ]
  },
  {
   "cell_type": "code",
   "execution_count": 66,
   "id": "ffcdf560",
   "metadata": {},
   "outputs": [
    {
     "data": {
      "text/plain": [
       "1.0"
      ]
     },
     "execution_count": 66,
     "metadata": {},
     "output_type": "execute_result"
    }
   ],
   "source": [
    "new[:,1].std()"
   ]
  },
  {
   "cell_type": "code",
   "execution_count": 67,
   "id": "1149a5f1",
   "metadata": {},
   "outputs": [
    {
     "data": {
      "text/plain": [
       "array([ 3, 11, 16, 21, 22, 36, 41, 57, 68, 77])"
      ]
     },
     "execution_count": 67,
     "metadata": {},
     "output_type": "execute_result"
    }
   ],
   "source": [
    "x"
   ]
  },
  {
   "cell_type": "code",
   "execution_count": 68,
   "id": "7b1e0dd4",
   "metadata": {},
   "outputs": [
    {
     "data": {
      "text/plain": [
       "array([10, 21, 46, 57, 63, 73, 78, 88, 91, 97])"
      ]
     },
     "execution_count": 68,
     "metadata": {},
     "output_type": "execute_result"
    }
   ],
   "source": [
    "y"
   ]
  },
  {
   "cell_type": "code",
   "execution_count": 69,
   "id": "bfbe2362",
   "metadata": {},
   "outputs": [
    {
     "data": {
      "text/plain": [
       "array([[633.28888889, 679.35555556],\n",
       "       [679.35555556, 864.93333333]])"
      ]
     },
     "execution_count": 69,
     "metadata": {},
     "output_type": "execute_result"
    }
   ],
   "source": [
    "np.cov(x, y)"
   ]
  },
  {
   "cell_type": "code",
   "execution_count": 70,
   "id": "7df1018b",
   "metadata": {},
   "outputs": [],
   "source": [
    "x = np.array([3,11,16,21,22,36,41,57,68,77])\n",
    "y = np.array([10,21,46,57,63,73,78,88,91,97])\n",
    "z = np.array([76,72,56,64,51,39,33,21,18,11])\n",
    "p = np.array([56,43,25,56,78,76,35,51,58,59])"
   ]
  },
  {
   "cell_type": "code",
   "execution_count": 71,
   "id": "a157d279",
   "metadata": {},
   "outputs": [
    {
     "data": {
      "text/plain": [
       "array([[633.28888889, 679.35555556],\n",
       "       [679.35555556, 864.93333333]])"
      ]
     },
     "execution_count": 71,
     "metadata": {},
     "output_type": "execute_result"
    }
   ],
   "source": [
    "np.cov(x, y)"
   ]
  },
  {
   "cell_type": "code",
   "execution_count": 72,
   "id": "1b30362d",
   "metadata": {},
   "outputs": [
    {
     "data": {
      "text/plain": [
       "array([[ 633.28888889, -568.46666667],\n",
       "       [-568.46666667,  537.87777778]])"
      ]
     },
     "execution_count": 72,
     "metadata": {},
     "output_type": "execute_result"
    }
   ],
   "source": [
    "np.cov(x, z)"
   ]
  },
  {
   "cell_type": "code",
   "execution_count": 73,
   "id": "d950a749",
   "metadata": {},
   "outputs": [
    {
     "data": {
      "text/plain": [
       "array([[633.28888889,  66.17777778],\n",
       "       [ 66.17777778, 271.12222222]])"
      ]
     },
     "execution_count": 73,
     "metadata": {},
     "output_type": "execute_result"
    }
   ],
   "source": [
    "np.cov(x, p)"
   ]
  },
  {
   "cell_type": "code",
   "execution_count": 74,
   "id": "cf0629ad",
   "metadata": {},
   "outputs": [
    {
     "data": {
      "text/plain": [
       "array([[  5, 315],\n",
       "       [  8, 819],\n",
       "       [ 12, 502],\n",
       "       [  4, 301],\n",
       "       [  9, 214],\n",
       "       [ 11, 802],\n",
       "       [ 10, 628]])"
      ]
     },
     "execution_count": 74,
     "metadata": {},
     "output_type": "execute_result"
    }
   ],
   "source": [
    "M"
   ]
  },
  {
   "cell_type": "code",
   "execution_count": 75,
   "id": "9949ae38",
   "metadata": {},
   "outputs": [
    {
     "data": {
      "text/plain": [
       "array([[8.95238095e+00, 3.66714286e+02],\n",
       "       [3.66714286e+02, 6.06729524e+04]])"
      ]
     },
     "execution_count": 75,
     "metadata": {},
     "output_type": "execute_result"
    }
   ],
   "source": [
    "np.cov(M[ :,0], M[:,1])"
   ]
  },
  {
   "cell_type": "markdown",
   "id": "3cc467d7",
   "metadata": {},
   "source": [
    "### Principal Component Analysis"
   ]
  },
  {
   "cell_type": "code",
   "execution_count": 82,
   "id": "e1ec193a",
   "metadata": {},
   "outputs": [],
   "source": [
    "data = np.array([[67,3,1089,56], [48,1,1234,51],[87, 7, 1256, 59], [76,5,1052,58], [71,9,1114,62],[71,6,1068,50],[73,8,1139,49],[70,4,1139,60]])"
   ]
  },
  {
   "cell_type": "code",
   "execution_count": 83,
   "id": "c0d821a1",
   "metadata": {},
   "outputs": [
    {
     "data": {
      "text/plain": [
       "array([[  67,    3, 1089,   56],\n",
       "       [  48,    1, 1234,   51],\n",
       "       [  87,    7, 1256,   59],\n",
       "       [  76,    5, 1052,   58],\n",
       "       [  71,    9, 1114,   62],\n",
       "       [  71,    6, 1068,   50],\n",
       "       [  73,    8, 1139,   49],\n",
       "       [  70,    4, 1139,   60]])"
      ]
     },
     "execution_count": 83,
     "metadata": {},
     "output_type": "execute_result"
    }
   ],
   "source": [
    "data"
   ]
  },
  {
   "cell_type": "code",
   "execution_count": 84,
   "id": "80ff6db4",
   "metadata": {},
   "outputs": [
    {
     "data": {
      "text/plain": [
       "(8, 4)"
      ]
     },
     "execution_count": 84,
     "metadata": {},
     "output_type": "execute_result"
    }
   ],
   "source": [
    "data.shape"
   ]
  },
  {
   "cell_type": "code",
   "execution_count": 112,
   "id": "664ca08d",
   "metadata": {},
   "outputs": [],
   "source": [
    "from sklearn.decomposition import PCA\n",
    "\n",
    "pca = PCA()\n",
    "\n",
    "x_scaled = scaler.fit_transform(data)\n",
    "\n",
    "x_pca = pca.fit_transform(x_scaled)"
   ]
  },
  {
   "cell_type": "code",
   "execution_count": 113,
   "id": "ccdfda62",
   "metadata": {},
   "outputs": [
    {
     "data": {
      "text/plain": [
       "array([[ 0.64137018, -0.53076267, -0.80809099, -0.37799898],\n",
       "       [ 3.15660158,  0.8961504 ,  0.09301393,  0.31967722],\n",
       "       [-1.46629459,  1.92541462,  0.65820173, -0.55657025],\n",
       "       [-0.69375773, -0.85873061, -0.81341391, -0.4368813 ],\n",
       "       [-1.55517893,  0.10248127, -0.52636458,  1.17456168],\n",
       "       [ 0.14796496, -1.38752082,  0.71849428, -0.18171377],\n",
       "       [-0.19884737, -0.59343111,  1.66367099,  0.18219123],\n",
       "       [-0.03185811,  0.44639892, -0.98551145, -0.12326582]])"
      ]
     },
     "execution_count": 113,
     "metadata": {},
     "output_type": "execute_result"
    }
   ],
   "source": [
    "x_pca"
   ]
  },
  {
   "cell_type": "code",
   "execution_count": 93,
   "id": "90239206",
   "metadata": {},
   "outputs": [
    {
     "data": {
      "text/plain": [
       "array([0.48399498, 0.25051822, 0.19652694, 0.06895986])"
      ]
     },
     "execution_count": 93,
     "metadata": {},
     "output_type": "execute_result"
    }
   ],
   "source": [
    "pca.explained_variance_ratio_"
   ]
  },
  {
   "cell_type": "code",
   "execution_count": 117,
   "id": "aed8df00",
   "metadata": {},
   "outputs": [
    {
     "data": {
      "text/plain": [
       "[<matplotlib.lines.Line2D at 0x1b516f9b910>]"
      ]
     },
     "execution_count": 117,
     "metadata": {},
     "output_type": "execute_result"
    },
    {
     "data": {
      "image/png": "[encoded data removed]",
      "text/plain": [
       "<Figure size 640x480 with 1 Axes>"
      ]
     },
     "metadata": {},
     "output_type": "display_data"
    }
   ],
   "source": [
    "plt.xlabel('feature Number')\n",
    "plt.ylabel('variance')\n",
    "plt.grid()\n",
    "plt.bar(range(4),pca.explained_variance_ratio_,color = '#14E7F0')\n",
    "plt.plot(range(4),pca.explained_variance_ratio_,marker='.',color = 'k')"
   ]
  },
  {
   "cell_type": "code",
   "execution_count": 103,
   "id": "a10b7871",
   "metadata": {},
   "outputs": [
    {
     "data": {
      "text/plain": [
       "(8, 4)"
      ]
     },
     "execution_count": 103,
     "metadata": {},
     "output_type": "execute_result"
    }
   ],
   "source": [
    "x_pca.shape"
   ]
  },
  {
   "cell_type": "code",
   "execution_count": 104,
   "id": "25e4ca5a",
   "metadata": {},
   "outputs": [],
   "source": [
    "pca = PCA(n_components=2)"
   ]
  },
  {
   "cell_type": "code",
   "execution_count": 105,
   "id": "d2a98395",
   "metadata": {},
   "outputs": [],
   "source": [
    "x_pca = pca.fit_transform(x_scaled)"
   ]
  },
  {
   "cell_type": "code",
   "execution_count": 107,
   "id": "aeec0309",
   "metadata": {},
   "outputs": [
    {
     "data": {
      "text/plain": [
       "array([[ 0.64137018, -0.53076267],\n",
       "       [ 3.15660158,  0.8961504 ],\n",
       "       [-1.46629459,  1.92541462],\n",
       "       [-0.69375773, -0.85873061],\n",
       "       [-1.55517893,  0.10248127],\n",
       "       [ 0.14796496, -1.38752082],\n",
       "       [-0.19884737, -0.59343111],\n",
       "       [-0.03185811,  0.44639892]])"
      ]
     },
     "execution_count": 107,
     "metadata": {},
     "output_type": "execute_result"
    }
   ],
   "source": [
    "x_pca"
   ]
  },
  {
   "cell_type": "code",
   "execution_count": null,
   "id": "63fcfc20",
   "metadata": {},
   "outputs": [],
   "source": []
  }
 ],
 "metadata": {
  "kernelspec": {
   "display_name": "Python 3 (ipykernel)",
   "language": "python",
   "name": "python3"
  },
  "language_info": {
   "codemirror_mode": {
    "name": "ipython",
    "version": 3
   },
   "file_extension": ".py",
   "mimetype": "text/x-python",
   "name": "python",
   "nbconvert_exporter": "python",
   "pygments_lexer": "ipython3",
   "version": "3.11.5"
  }
 },
 "nbformat": 4,
 "nbformat_minor": 5
}
